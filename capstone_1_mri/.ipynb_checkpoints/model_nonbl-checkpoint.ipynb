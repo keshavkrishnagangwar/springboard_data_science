{
 "cells": [
  {
   "cell_type": "markdown",
   "metadata": {},
   "source": [
    "<img src=\"images/mind_tree.jpg\" align=\"center\"/>"
   ]
  },
  {
   "cell_type": "markdown",
   "metadata": {},
   "source": [
    "# A Mind Without Time: Forcasting the Conversion to Alzheimer's Disease"
   ]
  },
  {
   "cell_type": "markdown",
   "metadata": {},
   "source": [
    "This project attempts to forcast the conversion of cognitively normal and persons with Mild Cognitive Impairment (MCI) to a diagnosis of Alzheimer's Disease (AD). Alzheimer's Disease is one of the most prevalent neurodegenerative disorders in North America. In Canada alone, there are 564,000 people diagnosed with dementia, a number that is expected to increase to nearly a million by 2031.Aside from the impact on an individual, dementia places a large burden on the healthcare system and persons involved with an affected individual. Dementia is currently estimated to cost 10.4 billion dollars in yearly expenses within Canada.\n",
    "\n",
    "Early diagnosis of AD is associated with a higher quality of life and a reduced cost on a healthcare system. However, detecting AD early in the disease progression is difficult due to the multifaceted nature of how neurodegeneration affects the brain, cognitive processing, and behavior. Clinical evaluation relies on assessment of a myriad of cognitive tests and biomarkers that are not always identifiable in patients with MCI, a precursor to AD. \n",
    "\n",
    "The multifaceted impact of cognitive impairment and neurodegeneration in MCI and AD suggests that machine learning algorithms such as neural networks may be beneficial in identifying and predicting disease progression. Current studies typically only incorporate one form of data, however, often relying solely on features extracted from structural magnetic resonance imaging (MRI) scans. Other forms of data that show promise in classification with machine learning algorithms include cognitive assessments and the connectivity patterns of resting-state functional networks. This is because spatial and episodic memory, cognitive processes that are typically the first affected in MCI and AD, rely on complex, dynamic interactions of distributed neural networks and are therefore susceptible to the impact of neurodegeneration. Critically, there has yet to be an assessment of how machine learning algorithms perform using features extracted from structural and functional MRI data, as well as cognitive assessments. This project aims to remedy this.\n",
    "\n",
    "**Target audience and use cases:**\n",
    "\n",
    "Healthcare providers. Structural and resting-state functional MRIs are one of easiest and fastest methods of brain imaging. Using them to classify persons at risk or with AD would assist in providing targeted treatments.\n",
    "\n",
    "**Notebook overview**\n",
    "\n",
    "This notebook explores different machine learning approaches to predicting AD onset. It also covers model optimization."
   ]
  },
  {
   "cell_type": "markdown",
   "metadata": {},
   "source": [
    "## 3. Building a core model "
   ]
  },
  {
   "cell_type": "markdown",
   "metadata": {},
   "source": [
    "The first goal is to build a classification model that will classify individuals who convert from those that do not. We will use a reduced feature set in order to maximize the amount of datapoints being classified. These features will be based on demographic information, cognitive assessments, genetic, and structural MRI data as they are the variables that are recorded for the majority of the patients. Later, we will build reduced models that include other feature types and evaluate how they perform relative to our core model.\n",
    "\n",
    "For our intial model, we will look at predicting AD onset just from the values at baseline. The reason is that this will provide the maximum time on average to target patients who will convert with early interventions."
   ]
  },
  {
   "cell_type": "code",
   "execution_count": 47,
   "metadata": {},
   "outputs": [],
   "source": [
    "%matplotlib inline\n",
    "import pandas as pd\n",
    "import matplotlib.pyplot as plt\n",
    "import numpy as np\n",
    "np.random.seed = 42\n",
    "\n",
    "# remove future warnings\n",
    "import warnings\n",
    "warnings.simplefilter(action='ignore', category=FutureWarning)\n",
    "warnings.filterwarnings(module='sklearn*', action='ignore', category=DeprecationWarning)\n",
    "\n",
    "import os\n",
    "os.environ['KMP_DUPLICATE_LIB_OK']='True'\n",
    "\n",
    "# Set plot style\n",
    "plt.style.use('fivethirtyeight')\n",
    "\n",
    "# set figure properties\n",
    "import matplotlib as mpl\n",
    "mpl.rcParams['figure.dpi']= 100"
   ]
  },
  {
   "cell_type": "code",
   "execution_count": 2,
   "metadata": {},
   "outputs": [],
   "source": [
    "df = pd.read_csv('df_final.csv', index_col=0)"
   ]
  },
  {
   "cell_type": "code",
   "execution_count": 3,
   "metadata": {},
   "outputs": [
    {
     "data": {
      "text/plain": [
       "Index(['rid', 'viscode', 'd1', 'd2', 'dx_bl', 'dxchange', 'age', 'ptgender',\n",
       "       'pteducat', 'ptethcat', 'ptmarry', 'cdrsb_bl', 'cdrsb', 'adas13_bl',\n",
       "       'adas13', 'mmse_bl', 'mmse', 'moca', 'ecogptmem', 'ecogptvisspat',\n",
       "       'ventricles_bl', 'wholebrain_bl', 'icv_bl', 'l_hippocampus_l',\n",
       "       'l_hippocampus_r', 'x_hippocampus_l', 'x_hippocampus_r',\n",
       "       'l_entorhinal_l', 'l_entorhinal_r', 'l_entorhinal_l_thick',\n",
       "       'l_entorhinal_r_thick', 'x_entorhinal_l', 'x_entorhinal_r',\n",
       "       'x_entorhinal_l_thick', 'x_entorhinal_r_thick', 'fdg', 'fdg_bl', 'pib',\n",
       "       'av45', 'av45_bl', 'md_hippocampus_r', 'apoe4', 'converted', 'diff_1',\n",
       "       'diff_2', 'x_hippocampus_l_bl', 'x_hippocampus_r_bl',\n",
       "       'x_entorhinal_l_bl', 'x_entorhinal_r_bl', 'x_entorhinal_l_thick_bl',\n",
       "       'x_entorhinal_r_thick_bl'],\n",
       "      dtype='object')"
      ]
     },
     "execution_count": 3,
     "metadata": {},
     "output_type": "execute_result"
    }
   ],
   "source": [
    "df.columns"
   ]
  },
  {
   "cell_type": "code",
   "execution_count": 4,
   "metadata": {},
   "outputs": [
    {
     "data": {
      "text/html": [
       "<div>\n",
       "<style scoped>\n",
       "    .dataframe tbody tr th:only-of-type {\n",
       "        vertical-align: middle;\n",
       "    }\n",
       "\n",
       "    .dataframe tbody tr th {\n",
       "        vertical-align: top;\n",
       "    }\n",
       "\n",
       "    .dataframe thead th {\n",
       "        text-align: right;\n",
       "    }\n",
       "</style>\n",
       "<table border=\"1\" class=\"dataframe\">\n",
       "  <thead>\n",
       "    <tr style=\"text-align: right;\">\n",
       "      <th></th>\n",
       "      <th>rid</th>\n",
       "      <th>viscode</th>\n",
       "      <th>d1</th>\n",
       "      <th>d2</th>\n",
       "      <th>dx_bl</th>\n",
       "      <th>dxchange</th>\n",
       "      <th>age</th>\n",
       "      <th>ptgender</th>\n",
       "      <th>pteducat</th>\n",
       "      <th>ptethcat</th>\n",
       "      <th>...</th>\n",
       "      <th>apoe4</th>\n",
       "      <th>converted</th>\n",
       "      <th>diff_1</th>\n",
       "      <th>diff_2</th>\n",
       "      <th>x_hippocampus_l_bl</th>\n",
       "      <th>x_hippocampus_r_bl</th>\n",
       "      <th>x_entorhinal_l_bl</th>\n",
       "      <th>x_entorhinal_r_bl</th>\n",
       "      <th>x_entorhinal_l_thick_bl</th>\n",
       "      <th>x_entorhinal_r_thick_bl</th>\n",
       "    </tr>\n",
       "  </thead>\n",
       "  <tbody>\n",
       "    <tr>\n",
       "      <th>0</th>\n",
       "      <td>2</td>\n",
       "      <td>0</td>\n",
       "      <td>1</td>\n",
       "      <td>1</td>\n",
       "      <td>CN</td>\n",
       "      <td>1.0</td>\n",
       "      <td>74.3</td>\n",
       "      <td>Male</td>\n",
       "      <td>16</td>\n",
       "      <td>Not Hisp/Latino</td>\n",
       "      <td>...</td>\n",
       "      <td>0.0</td>\n",
       "      <td>0</td>\n",
       "      <td>-18.67</td>\n",
       "      <td>NaN</td>\n",
       "      <td>4117.0</td>\n",
       "      <td>4219.0</td>\n",
       "      <td>2241.0</td>\n",
       "      <td>1936.0</td>\n",
       "      <td>3.254</td>\n",
       "      <td>3.61</td>\n",
       "    </tr>\n",
       "    <tr>\n",
       "      <th>1</th>\n",
       "      <td>2</td>\n",
       "      <td>6</td>\n",
       "      <td>1</td>\n",
       "      <td>1</td>\n",
       "      <td>CN</td>\n",
       "      <td>1.0</td>\n",
       "      <td>74.3</td>\n",
       "      <td>Male</td>\n",
       "      <td>16</td>\n",
       "      <td>Not Hisp/Latino</td>\n",
       "      <td>...</td>\n",
       "      <td>0.0</td>\n",
       "      <td>0</td>\n",
       "      <td>-18.67</td>\n",
       "      <td>NaN</td>\n",
       "      <td>4117.0</td>\n",
       "      <td>4219.0</td>\n",
       "      <td>2241.0</td>\n",
       "      <td>1936.0</td>\n",
       "      <td>3.254</td>\n",
       "      <td>3.61</td>\n",
       "    </tr>\n",
       "    <tr>\n",
       "      <th>2</th>\n",
       "      <td>2</td>\n",
       "      <td>36</td>\n",
       "      <td>1</td>\n",
       "      <td>1</td>\n",
       "      <td>CN</td>\n",
       "      <td>1.0</td>\n",
       "      <td>74.3</td>\n",
       "      <td>Male</td>\n",
       "      <td>16</td>\n",
       "      <td>Not Hisp/Latino</td>\n",
       "      <td>...</td>\n",
       "      <td>0.0</td>\n",
       "      <td>0</td>\n",
       "      <td>-18.67</td>\n",
       "      <td>NaN</td>\n",
       "      <td>4117.0</td>\n",
       "      <td>4219.0</td>\n",
       "      <td>2241.0</td>\n",
       "      <td>1936.0</td>\n",
       "      <td>3.254</td>\n",
       "      <td>3.61</td>\n",
       "    </tr>\n",
       "    <tr>\n",
       "      <th>3</th>\n",
       "      <td>2</td>\n",
       "      <td>60</td>\n",
       "      <td>1</td>\n",
       "      <td>1</td>\n",
       "      <td>CN</td>\n",
       "      <td>1.0</td>\n",
       "      <td>74.3</td>\n",
       "      <td>Male</td>\n",
       "      <td>16</td>\n",
       "      <td>Not Hisp/Latino</td>\n",
       "      <td>...</td>\n",
       "      <td>0.0</td>\n",
       "      <td>0</td>\n",
       "      <td>-18.67</td>\n",
       "      <td>NaN</td>\n",
       "      <td>4117.0</td>\n",
       "      <td>4219.0</td>\n",
       "      <td>2241.0</td>\n",
       "      <td>1936.0</td>\n",
       "      <td>3.254</td>\n",
       "      <td>3.61</td>\n",
       "    </tr>\n",
       "    <tr>\n",
       "      <th>4</th>\n",
       "      <td>2</td>\n",
       "      <td>72</td>\n",
       "      <td>1</td>\n",
       "      <td>1</td>\n",
       "      <td>CN</td>\n",
       "      <td>1.0</td>\n",
       "      <td>74.3</td>\n",
       "      <td>Male</td>\n",
       "      <td>16</td>\n",
       "      <td>Not Hisp/Latino</td>\n",
       "      <td>...</td>\n",
       "      <td>0.0</td>\n",
       "      <td>0</td>\n",
       "      <td>-18.67</td>\n",
       "      <td>NaN</td>\n",
       "      <td>4117.0</td>\n",
       "      <td>4219.0</td>\n",
       "      <td>2241.0</td>\n",
       "      <td>1936.0</td>\n",
       "      <td>3.254</td>\n",
       "      <td>3.61</td>\n",
       "    </tr>\n",
       "  </tbody>\n",
       "</table>\n",
       "<p>5 rows × 51 columns</p>\n",
       "</div>"
      ],
      "text/plain": [
       "   rid  viscode  d1  d2 dx_bl  dxchange   age ptgender  pteducat  \\\n",
       "0    2        0   1   1    CN       1.0  74.3     Male        16   \n",
       "1    2        6   1   1    CN       1.0  74.3     Male        16   \n",
       "2    2       36   1   1    CN       1.0  74.3     Male        16   \n",
       "3    2       60   1   1    CN       1.0  74.3     Male        16   \n",
       "4    2       72   1   1    CN       1.0  74.3     Male        16   \n",
       "\n",
       "          ptethcat           ...            apoe4  converted  diff_1  diff_2  \\\n",
       "0  Not Hisp/Latino           ...              0.0          0  -18.67     NaN   \n",
       "1  Not Hisp/Latino           ...              0.0          0  -18.67     NaN   \n",
       "2  Not Hisp/Latino           ...              0.0          0  -18.67     NaN   \n",
       "3  Not Hisp/Latino           ...              0.0          0  -18.67     NaN   \n",
       "4  Not Hisp/Latino           ...              0.0          0  -18.67     NaN   \n",
       "\n",
       "   x_hippocampus_l_bl  x_hippocampus_r_bl  x_entorhinal_l_bl  \\\n",
       "0              4117.0              4219.0             2241.0   \n",
       "1              4117.0              4219.0             2241.0   \n",
       "2              4117.0              4219.0             2241.0   \n",
       "3              4117.0              4219.0             2241.0   \n",
       "4              4117.0              4219.0             2241.0   \n",
       "\n",
       "   x_entorhinal_r_bl  x_entorhinal_l_thick_bl  x_entorhinal_r_thick_bl  \n",
       "0             1936.0                    3.254                     3.61  \n",
       "1             1936.0                    3.254                     3.61  \n",
       "2             1936.0                    3.254                     3.61  \n",
       "3             1936.0                    3.254                     3.61  \n",
       "4             1936.0                    3.254                     3.61  \n",
       "\n",
       "[5 rows x 51 columns]"
      ]
     },
     "execution_count": 4,
     "metadata": {},
     "output_type": "execute_result"
    }
   ],
   "source": [
    "df.head()"
   ]
  },
  {
   "cell_type": "code",
   "execution_count": 5,
   "metadata": {},
   "outputs": [],
   "source": [
    "# drop patients with baseline conversion to AD\n",
    "df = df.loc[df.dx_bl != 'AD']\n",
    "# one hot encode gender\n",
    "features = pd.get_dummies(df, columns=['ptgender', 'dx_bl'])"
   ]
  },
  {
   "cell_type": "code",
   "execution_count": 6,
   "metadata": {},
   "outputs": [
    {
     "data": {
      "text/plain": [
       "Index(['rid', 'viscode', 'd1', 'd2', 'dxchange', 'age', 'pteducat', 'ptethcat',\n",
       "       'ptmarry', 'cdrsb_bl', 'cdrsb', 'adas13_bl', 'adas13', 'mmse_bl',\n",
       "       'mmse', 'moca', 'ecogptmem', 'ecogptvisspat', 'ventricles_bl',\n",
       "       'wholebrain_bl', 'icv_bl', 'l_hippocampus_l', 'l_hippocampus_r',\n",
       "       'x_hippocampus_l', 'x_hippocampus_r', 'l_entorhinal_l',\n",
       "       'l_entorhinal_r', 'l_entorhinal_l_thick', 'l_entorhinal_r_thick',\n",
       "       'x_entorhinal_l', 'x_entorhinal_r', 'x_entorhinal_l_thick',\n",
       "       'x_entorhinal_r_thick', 'fdg', 'fdg_bl', 'pib', 'av45', 'av45_bl',\n",
       "       'md_hippocampus_r', 'apoe4', 'converted', 'diff_1', 'diff_2',\n",
       "       'x_hippocampus_l_bl', 'x_hippocampus_r_bl', 'x_entorhinal_l_bl',\n",
       "       'x_entorhinal_r_bl', 'x_entorhinal_l_thick_bl',\n",
       "       'x_entorhinal_r_thick_bl', 'ptgender_Female', 'ptgender_Male',\n",
       "       'dx_bl_CN', 'dx_bl_EMCI', 'dx_bl_LMCI', 'dx_bl_SMC'],\n",
       "      dtype='object')"
      ]
     },
     "execution_count": 6,
     "metadata": {},
     "output_type": "execute_result"
    }
   ],
   "source": [
    "features.columns"
   ]
  },
  {
   "cell_type": "code",
   "execution_count": 7,
   "metadata": {},
   "outputs": [],
   "source": [
    "core_features = ['rid', 'viscode', 'age', 'pteducat', \n",
    "                 'cdrsb', 'adas13', 'mmse', \n",
    "                'x_hippocampus_l', 'x_hippocampus_r', 'x_entorhinal_l', \n",
    "                'x_entorhinal_r', 'x_entorhinal_l_thick', 'x_entorhinal_r_thick',\n",
    "                 'diff_1', 'apoe4', 'ptgender_Female', 'ptgender_Male', 'dx_bl_CN', 'dx_bl_EMCI', 'dx_bl_LMCI', 'dx_bl_SMC', 'converted']"
   ]
  },
  {
   "cell_type": "code",
   "execution_count": 8,
   "metadata": {},
   "outputs": [
    {
     "data": {
      "text/plain": [
       "0    6677\n",
       "1    2350\n",
       "Name: converted, dtype: int64"
      ]
     },
     "execution_count": 8,
     "metadata": {},
     "output_type": "execute_result"
    }
   ],
   "source": [
    "features.converted.value_counts()"
   ]
  },
  {
   "cell_type": "code",
   "execution_count": 22,
   "metadata": {},
   "outputs": [],
   "source": [
    "# extract non converter datapoints\n",
    "df_non = features.loc[features.converted==0]\n",
    "# extract only baseline converter datapoints\n",
    "df_converted = features.loc[(features.converted==1) & (features.viscode==0)]\n",
    "# concatenate\n",
    "df_core = pd.concat([df_non, df_converted])\n",
    "# filter to core feature set\n",
    "df_core = df_core.loc[:,core_features]\n",
    "# drop NaN rows\n",
    "df_core.dropna(inplace=True)"
   ]
  },
  {
   "cell_type": "code",
   "execution_count": 23,
   "metadata": {},
   "outputs": [
    {
     "data": {
      "text/plain": [
       "(4622, 22)"
      ]
     },
     "execution_count": 23,
     "metadata": {},
     "output_type": "execute_result"
    }
   ],
   "source": [
    "df_core.shape"
   ]
  },
  {
   "cell_type": "code",
   "execution_count": 24,
   "metadata": {},
   "outputs": [],
   "source": [
    "#df_core = features.loc[features.viscode==0, core_features].copy()"
   ]
  },
  {
   "cell_type": "code",
   "execution_count": 25,
   "metadata": {},
   "outputs": [
    {
     "data": {
      "text/plain": [
       "Index(['rid', 'viscode', 'age', 'pteducat', 'cdrsb', 'adas13', 'mmse',\n",
       "       'x_hippocampus_l', 'x_hippocampus_r', 'x_entorhinal_l',\n",
       "       'x_entorhinal_r', 'x_entorhinal_l_thick', 'x_entorhinal_r_thick',\n",
       "       'diff_1', 'apoe4', 'ptgender_Female', 'ptgender_Male', 'dx_bl_CN',\n",
       "       'dx_bl_EMCI', 'dx_bl_LMCI', 'dx_bl_SMC', 'converted'],\n",
       "      dtype='object')"
      ]
     },
     "execution_count": 25,
     "metadata": {},
     "output_type": "execute_result"
    }
   ],
   "source": [
    "df_core.columns"
   ]
  },
  {
   "cell_type": "code",
   "execution_count": 26,
   "metadata": {},
   "outputs": [
    {
     "data": {
      "text/html": [
       "<div>\n",
       "<style scoped>\n",
       "    .dataframe tbody tr th:only-of-type {\n",
       "        vertical-align: middle;\n",
       "    }\n",
       "\n",
       "    .dataframe tbody tr th {\n",
       "        vertical-align: top;\n",
       "    }\n",
       "\n",
       "    .dataframe thead th {\n",
       "        text-align: right;\n",
       "    }\n",
       "</style>\n",
       "<table border=\"1\" class=\"dataframe\">\n",
       "  <thead>\n",
       "    <tr style=\"text-align: right;\">\n",
       "      <th></th>\n",
       "      <th>rid</th>\n",
       "      <th>viscode</th>\n",
       "      <th>age</th>\n",
       "      <th>pteducat</th>\n",
       "      <th>cdrsb</th>\n",
       "      <th>adas13</th>\n",
       "      <th>mmse</th>\n",
       "      <th>x_hippocampus_l</th>\n",
       "      <th>x_hippocampus_r</th>\n",
       "      <th>x_entorhinal_l</th>\n",
       "      <th>...</th>\n",
       "      <th>x_entorhinal_r_thick</th>\n",
       "      <th>diff_1</th>\n",
       "      <th>apoe4</th>\n",
       "      <th>ptgender_Female</th>\n",
       "      <th>ptgender_Male</th>\n",
       "      <th>dx_bl_CN</th>\n",
       "      <th>dx_bl_EMCI</th>\n",
       "      <th>dx_bl_LMCI</th>\n",
       "      <th>dx_bl_SMC</th>\n",
       "      <th>converted</th>\n",
       "    </tr>\n",
       "  </thead>\n",
       "  <tbody>\n",
       "    <tr>\n",
       "      <th>0</th>\n",
       "      <td>2</td>\n",
       "      <td>0</td>\n",
       "      <td>74.3</td>\n",
       "      <td>16</td>\n",
       "      <td>0.0</td>\n",
       "      <td>18.67</td>\n",
       "      <td>28.0</td>\n",
       "      <td>4117.0</td>\n",
       "      <td>4219.0</td>\n",
       "      <td>2241.0</td>\n",
       "      <td>...</td>\n",
       "      <td>3.610</td>\n",
       "      <td>-18.67</td>\n",
       "      <td>0.0</td>\n",
       "      <td>0</td>\n",
       "      <td>1</td>\n",
       "      <td>1</td>\n",
       "      <td>0</td>\n",
       "      <td>0</td>\n",
       "      <td>0</td>\n",
       "      <td>0</td>\n",
       "    </tr>\n",
       "    <tr>\n",
       "      <th>14</th>\n",
       "      <td>4</td>\n",
       "      <td>0</td>\n",
       "      <td>67.5</td>\n",
       "      <td>10</td>\n",
       "      <td>1.0</td>\n",
       "      <td>21.33</td>\n",
       "      <td>27.0</td>\n",
       "      <td>3450.0</td>\n",
       "      <td>3419.0</td>\n",
       "      <td>2104.0</td>\n",
       "      <td>...</td>\n",
       "      <td>3.122</td>\n",
       "      <td>-20.33</td>\n",
       "      <td>0.0</td>\n",
       "      <td>0</td>\n",
       "      <td>1</td>\n",
       "      <td>0</td>\n",
       "      <td>0</td>\n",
       "      <td>1</td>\n",
       "      <td>0</td>\n",
       "      <td>0</td>\n",
       "    </tr>\n",
       "    <tr>\n",
       "      <th>15</th>\n",
       "      <td>4</td>\n",
       "      <td>6</td>\n",
       "      <td>67.5</td>\n",
       "      <td>10</td>\n",
       "      <td>0.5</td>\n",
       "      <td>25.33</td>\n",
       "      <td>28.0</td>\n",
       "      <td>3287.0</td>\n",
       "      <td>3152.0</td>\n",
       "      <td>1605.0</td>\n",
       "      <td>...</td>\n",
       "      <td>3.355</td>\n",
       "      <td>-20.33</td>\n",
       "      <td>0.0</td>\n",
       "      <td>0</td>\n",
       "      <td>1</td>\n",
       "      <td>0</td>\n",
       "      <td>0</td>\n",
       "      <td>1</td>\n",
       "      <td>0</td>\n",
       "      <td>0</td>\n",
       "    </tr>\n",
       "    <tr>\n",
       "      <th>16</th>\n",
       "      <td>4</td>\n",
       "      <td>12</td>\n",
       "      <td>67.5</td>\n",
       "      <td>10</td>\n",
       "      <td>1.0</td>\n",
       "      <td>22.00</td>\n",
       "      <td>26.0</td>\n",
       "      <td>3228.0</td>\n",
       "      <td>3223.0</td>\n",
       "      <td>1662.0</td>\n",
       "      <td>...</td>\n",
       "      <td>3.155</td>\n",
       "      <td>-20.33</td>\n",
       "      <td>0.0</td>\n",
       "      <td>0</td>\n",
       "      <td>1</td>\n",
       "      <td>0</td>\n",
       "      <td>0</td>\n",
       "      <td>1</td>\n",
       "      <td>0</td>\n",
       "      <td>0</td>\n",
       "    </tr>\n",
       "    <tr>\n",
       "      <th>17</th>\n",
       "      <td>4</td>\n",
       "      <td>18</td>\n",
       "      <td>67.5</td>\n",
       "      <td>10</td>\n",
       "      <td>1.0</td>\n",
       "      <td>28.33</td>\n",
       "      <td>27.0</td>\n",
       "      <td>3226.0</td>\n",
       "      <td>3147.0</td>\n",
       "      <td>2052.0</td>\n",
       "      <td>...</td>\n",
       "      <td>3.170</td>\n",
       "      <td>-20.33</td>\n",
       "      <td>0.0</td>\n",
       "      <td>0</td>\n",
       "      <td>1</td>\n",
       "      <td>0</td>\n",
       "      <td>0</td>\n",
       "      <td>1</td>\n",
       "      <td>0</td>\n",
       "      <td>0</td>\n",
       "    </tr>\n",
       "  </tbody>\n",
       "</table>\n",
       "<p>5 rows × 22 columns</p>\n",
       "</div>"
      ],
      "text/plain": [
       "    rid  viscode   age  pteducat  cdrsb  adas13  mmse  x_hippocampus_l  \\\n",
       "0     2        0  74.3        16    0.0   18.67  28.0           4117.0   \n",
       "14    4        0  67.5        10    1.0   21.33  27.0           3450.0   \n",
       "15    4        6  67.5        10    0.5   25.33  28.0           3287.0   \n",
       "16    4       12  67.5        10    1.0   22.00  26.0           3228.0   \n",
       "17    4       18  67.5        10    1.0   28.33  27.0           3226.0   \n",
       "\n",
       "    x_hippocampus_r  x_entorhinal_l    ...      x_entorhinal_r_thick  diff_1  \\\n",
       "0            4219.0          2241.0    ...                     3.610  -18.67   \n",
       "14           3419.0          2104.0    ...                     3.122  -20.33   \n",
       "15           3152.0          1605.0    ...                     3.355  -20.33   \n",
       "16           3223.0          1662.0    ...                     3.155  -20.33   \n",
       "17           3147.0          2052.0    ...                     3.170  -20.33   \n",
       "\n",
       "    apoe4  ptgender_Female  ptgender_Male  dx_bl_CN  dx_bl_EMCI  dx_bl_LMCI  \\\n",
       "0     0.0                0              1         1           0           0   \n",
       "14    0.0                0              1         0           0           1   \n",
       "15    0.0                0              1         0           0           1   \n",
       "16    0.0                0              1         0           0           1   \n",
       "17    0.0                0              1         0           0           1   \n",
       "\n",
       "    dx_bl_SMC  converted  \n",
       "0           0          0  \n",
       "14          0          0  \n",
       "15          0          0  \n",
       "16          0          0  \n",
       "17          0          0  \n",
       "\n",
       "[5 rows x 22 columns]"
      ]
     },
     "execution_count": 26,
     "metadata": {},
     "output_type": "execute_result"
    }
   ],
   "source": [
    "df_core.head()"
   ]
  },
  {
   "cell_type": "markdown",
   "metadata": {},
   "source": [
    "### 3.1 Logistic regression "
   ]
  },
  {
   "cell_type": "markdown",
   "metadata": {},
   "source": [
    "The first classifier that will be evaluated is logistic regression."
   ]
  },
  {
   "cell_type": "code",
   "execution_count": 27,
   "metadata": {},
   "outputs": [],
   "source": [
    "from sklearn.preprocessing import StandardScaler\n",
    "from sklearn.model_selection import train_test_split\n",
    "from sklearn.model_selection import StratifiedKFold\n",
    "from sklearn.model_selection import GridSearchCV\n",
    "from sklearn.model_selection import RandomizedSearchCV\n",
    "from sklearn.linear_model import LogisticRegression\n",
    "from sklearn.metrics import accuracy_score\n",
    "from sklearn.metrics import roc_curve\n",
    "from sklearn.metrics import roc_auc_score"
   ]
  },
  {
   "cell_type": "code",
   "execution_count": 28,
   "metadata": {},
   "outputs": [],
   "source": [
    "def model_eval(fitted_model, scaled=True, cv=False):\n",
    "    \"\"\"This method is used to evaluate model performance. It takes a fitted classification model and\n",
    "    generates an accuracy score and plots an ROC curve.\"\"\"\n",
    "\n",
    "    # set training/test sets\n",
    "    if scaled:\n",
    "        X_train_set = X_train_trans\n",
    "        X_test_set = X_test_trans\n",
    "    else:\n",
    "        X_train_set = X_train\n",
    "        X_test_set = X_test\n",
    "\n",
    "    # calculate predicted probabilities\n",
    "    y_pred_prob = fitted_model.predict_proba(X_test_set)[:,1]\n",
    "\n",
    "    # Generate ROC curve values: fpr, tpr, thresholds\n",
    "    fpr, tpr, thresholds = roc_curve(y_test, y_pred_prob)\n",
    "\n",
    "    # Plot ROC curve\n",
    "    plt.plot([0, 1], [0, 1], 'k--')\n",
    "    plt.plot(fpr, tpr)\n",
    "    plt.xlabel('False Positive Rate')\n",
    "    plt.ylabel('True Positive Rate')\n",
    "    plt.title('ROC Curve')\n",
    "    plt.show()\n",
    "\n",
    "    # display results\n",
    "    print(f'Accuracy on the training data is {round(accuracy_score(y_train, fitted_model.predict(X_train_set)), 3)}.')\n",
    "\n",
    "    # display model accuracy\n",
    "    print(f'Accuracy on the test data is {round(accuracy_score(y_test, fitted_model.predict(X_test_set)), 3)}.')\n",
    "\n",
    "    # display AUC score\n",
    "    print(f'The model AUC for test data is {round(roc_auc_score(y_test, y_pred_prob), 3)}')\n",
    "\n",
    "    if cv:\n",
    "        print(f'The best parameters are {fitted_model.best_params_}.')\n",
    "\n",
    "\n",
    "def model_performance(classifier, scaled=True, cv=False):\n",
    "    \"\"\"This method fits and evaluates a model. Input parameter is classifier type.\n",
    "    Scaled indicates whether to use a scaled train/test set. Cv indicates whether evaluating cross validation performance.\"\"\"\n",
    "\n",
    "    # set training data\n",
    "    if scaled:\n",
    "        X_train_set = X_train_trans\n",
    "    else:\n",
    "        X_train_set = X_train\n",
    "\n",
    "    # initiate classifier\n",
    "    clf = classifier\n",
    "    # fit model\n",
    "    clf = clf.fit(X_train_trans, y_train)\n",
    "    # evaluate model\n",
    "    model_eval(fitted_model=clf, scaled=scaled, cv=cv)\n",
    "    # return fitted model\n",
    "    return clf"
   ]
  },
  {
   "cell_type": "code",
   "execution_count": 29,
   "metadata": {},
   "outputs": [],
   "source": [
    "# predictor and target variables\n",
    "X = df_core.drop(['rid', 'viscode', 'converted'], axis=1).values\n",
    "y = df_core['converted'].values"
   ]
  },
  {
   "cell_type": "code",
   "execution_count": 30,
   "metadata": {},
   "outputs": [],
   "source": [
    "# initiate cross validation object for stratified folds\n",
    "skf = StratifiedKFold(n_splits=5)"
   ]
  },
  {
   "cell_type": "code",
   "execution_count": 31,
   "metadata": {},
   "outputs": [],
   "source": [
    "# split into train and test sets while controlling for amount of converts in each set\n",
    "X_train, X_test, y_train, y_test = train_test_split(X, y,\n",
    "                                                    stratify=y, \n",
    "                                                    test_size=0.25, random_state=42)"
   ]
  },
  {
   "cell_type": "code",
   "execution_count": 32,
   "metadata": {},
   "outputs": [
    {
     "data": {
      "text/html": [
       "<div>\n",
       "<style scoped>\n",
       "    .dataframe tbody tr th:only-of-type {\n",
       "        vertical-align: middle;\n",
       "    }\n",
       "\n",
       "    .dataframe tbody tr th {\n",
       "        vertical-align: top;\n",
       "    }\n",
       "\n",
       "    .dataframe thead th {\n",
       "        text-align: right;\n",
       "    }\n",
       "</style>\n",
       "<table border=\"1\" class=\"dataframe\">\n",
       "  <thead>\n",
       "    <tr style=\"text-align: right;\">\n",
       "      <th></th>\n",
       "      <th>rid</th>\n",
       "      <th>viscode</th>\n",
       "      <th>age</th>\n",
       "      <th>pteducat</th>\n",
       "      <th>cdrsb</th>\n",
       "      <th>adas13</th>\n",
       "      <th>mmse</th>\n",
       "      <th>x_hippocampus_l</th>\n",
       "      <th>x_hippocampus_r</th>\n",
       "      <th>x_entorhinal_l</th>\n",
       "      <th>...</th>\n",
       "      <th>x_entorhinal_r_thick</th>\n",
       "      <th>diff_1</th>\n",
       "      <th>apoe4</th>\n",
       "      <th>ptgender_Female</th>\n",
       "      <th>ptgender_Male</th>\n",
       "      <th>dx_bl_CN</th>\n",
       "      <th>dx_bl_EMCI</th>\n",
       "      <th>dx_bl_LMCI</th>\n",
       "      <th>dx_bl_SMC</th>\n",
       "      <th>converted</th>\n",
       "    </tr>\n",
       "  </thead>\n",
       "  <tbody>\n",
       "    <tr>\n",
       "      <th>count</th>\n",
       "      <td>4622.000000</td>\n",
       "      <td>4622.000000</td>\n",
       "      <td>4622.000000</td>\n",
       "      <td>4622.000000</td>\n",
       "      <td>4622.000000</td>\n",
       "      <td>4622.000000</td>\n",
       "      <td>4622.000000</td>\n",
       "      <td>4622.000000</td>\n",
       "      <td>4622.000000</td>\n",
       "      <td>4622.000000</td>\n",
       "      <td>...</td>\n",
       "      <td>4622.000000</td>\n",
       "      <td>4622.000000</td>\n",
       "      <td>4622.000000</td>\n",
       "      <td>4622.000000</td>\n",
       "      <td>4622.000000</td>\n",
       "      <td>4622.000000</td>\n",
       "      <td>4622.000000</td>\n",
       "      <td>4622.000000</td>\n",
       "      <td>4622.000000</td>\n",
       "      <td>4622.000000</td>\n",
       "    </tr>\n",
       "    <tr>\n",
       "      <th>mean</th>\n",
       "      <td>2358.107313</td>\n",
       "      <td>16.006058</td>\n",
       "      <td>73.519429</td>\n",
       "      <td>16.102769</td>\n",
       "      <td>0.832865</td>\n",
       "      <td>12.155210</td>\n",
       "      <td>28.304846</td>\n",
       "      <td>3483.533752</td>\n",
       "      <td>3533.874946</td>\n",
       "      <td>1842.870835</td>\n",
       "      <td>...</td>\n",
       "      <td>3.433971</td>\n",
       "      <td>-11.420547</td>\n",
       "      <td>0.418650</td>\n",
       "      <td>0.443964</td>\n",
       "      <td>0.556036</td>\n",
       "      <td>0.399178</td>\n",
       "      <td>0.231069</td>\n",
       "      <td>0.328213</td>\n",
       "      <td>0.041540</td>\n",
       "      <td>0.071398</td>\n",
       "    </tr>\n",
       "    <tr>\n",
       "      <th>std</th>\n",
       "      <td>1847.364742</td>\n",
       "      <td>19.202538</td>\n",
       "      <td>6.885788</td>\n",
       "      <td>2.812475</td>\n",
       "      <td>1.030653</td>\n",
       "      <td>6.776648</td>\n",
       "      <td>1.893706</td>\n",
       "      <td>558.829500</td>\n",
       "      <td>573.442159</td>\n",
       "      <td>430.765612</td>\n",
       "      <td>...</td>\n",
       "      <td>0.481286</td>\n",
       "      <td>5.765694</td>\n",
       "      <td>0.603121</td>\n",
       "      <td>0.496904</td>\n",
       "      <td>0.496904</td>\n",
       "      <td>0.489782</td>\n",
       "      <td>0.421562</td>\n",
       "      <td>0.469614</td>\n",
       "      <td>0.199558</td>\n",
       "      <td>0.257516</td>\n",
       "    </tr>\n",
       "    <tr>\n",
       "      <th>min</th>\n",
       "      <td>2.000000</td>\n",
       "      <td>0.000000</td>\n",
       "      <td>54.400000</td>\n",
       "      <td>4.000000</td>\n",
       "      <td>0.000000</td>\n",
       "      <td>0.000000</td>\n",
       "      <td>8.000000</td>\n",
       "      <td>783.000000</td>\n",
       "      <td>1436.000000</td>\n",
       "      <td>34.000000</td>\n",
       "      <td>...</td>\n",
       "      <td>1.454000</td>\n",
       "      <td>-36.500000</td>\n",
       "      <td>0.000000</td>\n",
       "      <td>0.000000</td>\n",
       "      <td>0.000000</td>\n",
       "      <td>0.000000</td>\n",
       "      <td>0.000000</td>\n",
       "      <td>0.000000</td>\n",
       "      <td>0.000000</td>\n",
       "      <td>0.000000</td>\n",
       "    </tr>\n",
       "    <tr>\n",
       "      <th>25%</th>\n",
       "      <td>648.000000</td>\n",
       "      <td>0.000000</td>\n",
       "      <td>69.300000</td>\n",
       "      <td>14.000000</td>\n",
       "      <td>0.000000</td>\n",
       "      <td>7.000000</td>\n",
       "      <td>27.000000</td>\n",
       "      <td>3123.250000</td>\n",
       "      <td>3172.000000</td>\n",
       "      <td>1581.250000</td>\n",
       "      <td>...</td>\n",
       "      <td>3.183250</td>\n",
       "      <td>-15.000000</td>\n",
       "      <td>0.000000</td>\n",
       "      <td>0.000000</td>\n",
       "      <td>0.000000</td>\n",
       "      <td>0.000000</td>\n",
       "      <td>0.000000</td>\n",
       "      <td>0.000000</td>\n",
       "      <td>0.000000</td>\n",
       "      <td>0.000000</td>\n",
       "    </tr>\n",
       "    <tr>\n",
       "      <th>50%</th>\n",
       "      <td>2022.000000</td>\n",
       "      <td>12.000000</td>\n",
       "      <td>73.500000</td>\n",
       "      <td>16.000000</td>\n",
       "      <td>0.500000</td>\n",
       "      <td>11.000000</td>\n",
       "      <td>29.000000</td>\n",
       "      <td>3510.500000</td>\n",
       "      <td>3577.000000</td>\n",
       "      <td>1850.000000</td>\n",
       "      <td>...</td>\n",
       "      <td>3.500000</td>\n",
       "      <td>-10.670000</td>\n",
       "      <td>0.000000</td>\n",
       "      <td>0.000000</td>\n",
       "      <td>1.000000</td>\n",
       "      <td>0.000000</td>\n",
       "      <td>0.000000</td>\n",
       "      <td>0.000000</td>\n",
       "      <td>0.000000</td>\n",
       "      <td>0.000000</td>\n",
       "    </tr>\n",
       "    <tr>\n",
       "      <th>75%</th>\n",
       "      <td>4351.000000</td>\n",
       "      <td>24.000000</td>\n",
       "      <td>78.300000</td>\n",
       "      <td>18.000000</td>\n",
       "      <td>1.500000</td>\n",
       "      <td>16.000000</td>\n",
       "      <td>30.000000</td>\n",
       "      <td>3855.000000</td>\n",
       "      <td>3907.750000</td>\n",
       "      <td>2108.000000</td>\n",
       "      <td>...</td>\n",
       "      <td>3.771000</td>\n",
       "      <td>-7.000000</td>\n",
       "      <td>1.000000</td>\n",
       "      <td>1.000000</td>\n",
       "      <td>1.000000</td>\n",
       "      <td>1.000000</td>\n",
       "      <td>0.000000</td>\n",
       "      <td>1.000000</td>\n",
       "      <td>0.000000</td>\n",
       "      <td>0.000000</td>\n",
       "    </tr>\n",
       "    <tr>\n",
       "      <th>max</th>\n",
       "      <td>5296.000000</td>\n",
       "      <td>120.000000</td>\n",
       "      <td>91.400000</td>\n",
       "      <td>20.000000</td>\n",
       "      <td>9.000000</td>\n",
       "      <td>73.000000</td>\n",
       "      <td>30.000000</td>\n",
       "      <td>5906.000000</td>\n",
       "      <td>5818.000000</td>\n",
       "      <td>4239.000000</td>\n",
       "      <td>...</td>\n",
       "      <td>4.611000</td>\n",
       "      <td>0.000000</td>\n",
       "      <td>2.000000</td>\n",
       "      <td>1.000000</td>\n",
       "      <td>1.000000</td>\n",
       "      <td>1.000000</td>\n",
       "      <td>1.000000</td>\n",
       "      <td>1.000000</td>\n",
       "      <td>1.000000</td>\n",
       "      <td>1.000000</td>\n",
       "    </tr>\n",
       "  </tbody>\n",
       "</table>\n",
       "<p>8 rows × 22 columns</p>\n",
       "</div>"
      ],
      "text/plain": [
       "               rid      viscode          age     pteducat        cdrsb  \\\n",
       "count  4622.000000  4622.000000  4622.000000  4622.000000  4622.000000   \n",
       "mean   2358.107313    16.006058    73.519429    16.102769     0.832865   \n",
       "std    1847.364742    19.202538     6.885788     2.812475     1.030653   \n",
       "min       2.000000     0.000000    54.400000     4.000000     0.000000   \n",
       "25%     648.000000     0.000000    69.300000    14.000000     0.000000   \n",
       "50%    2022.000000    12.000000    73.500000    16.000000     0.500000   \n",
       "75%    4351.000000    24.000000    78.300000    18.000000     1.500000   \n",
       "max    5296.000000   120.000000    91.400000    20.000000     9.000000   \n",
       "\n",
       "            adas13         mmse  x_hippocampus_l  x_hippocampus_r  \\\n",
       "count  4622.000000  4622.000000      4622.000000      4622.000000   \n",
       "mean     12.155210    28.304846      3483.533752      3533.874946   \n",
       "std       6.776648     1.893706       558.829500       573.442159   \n",
       "min       0.000000     8.000000       783.000000      1436.000000   \n",
       "25%       7.000000    27.000000      3123.250000      3172.000000   \n",
       "50%      11.000000    29.000000      3510.500000      3577.000000   \n",
       "75%      16.000000    30.000000      3855.000000      3907.750000   \n",
       "max      73.000000    30.000000      5906.000000      5818.000000   \n",
       "\n",
       "       x_entorhinal_l     ...       x_entorhinal_r_thick       diff_1  \\\n",
       "count     4622.000000     ...                4622.000000  4622.000000   \n",
       "mean      1842.870835     ...                   3.433971   -11.420547   \n",
       "std        430.765612     ...                   0.481286     5.765694   \n",
       "min         34.000000     ...                   1.454000   -36.500000   \n",
       "25%       1581.250000     ...                   3.183250   -15.000000   \n",
       "50%       1850.000000     ...                   3.500000   -10.670000   \n",
       "75%       2108.000000     ...                   3.771000    -7.000000   \n",
       "max       4239.000000     ...                   4.611000     0.000000   \n",
       "\n",
       "             apoe4  ptgender_Female  ptgender_Male     dx_bl_CN   dx_bl_EMCI  \\\n",
       "count  4622.000000      4622.000000    4622.000000  4622.000000  4622.000000   \n",
       "mean      0.418650         0.443964       0.556036     0.399178     0.231069   \n",
       "std       0.603121         0.496904       0.496904     0.489782     0.421562   \n",
       "min       0.000000         0.000000       0.000000     0.000000     0.000000   \n",
       "25%       0.000000         0.000000       0.000000     0.000000     0.000000   \n",
       "50%       0.000000         0.000000       1.000000     0.000000     0.000000   \n",
       "75%       1.000000         1.000000       1.000000     1.000000     0.000000   \n",
       "max       2.000000         1.000000       1.000000     1.000000     1.000000   \n",
       "\n",
       "        dx_bl_LMCI    dx_bl_SMC    converted  \n",
       "count  4622.000000  4622.000000  4622.000000  \n",
       "mean      0.328213     0.041540     0.071398  \n",
       "std       0.469614     0.199558     0.257516  \n",
       "min       0.000000     0.000000     0.000000  \n",
       "25%       0.000000     0.000000     0.000000  \n",
       "50%       0.000000     0.000000     0.000000  \n",
       "75%       1.000000     0.000000     0.000000  \n",
       "max       1.000000     1.000000     1.000000  \n",
       "\n",
       "[8 rows x 22 columns]"
      ]
     },
     "execution_count": 32,
     "metadata": {},
     "output_type": "execute_result"
    }
   ],
   "source": [
    "df_core.describe()"
   ]
  },
  {
   "cell_type": "code",
   "execution_count": 33,
   "metadata": {},
   "outputs": [],
   "source": [
    "# fit scaler to continuous data in training set\n",
    "scaler = StandardScaler().fit(X_train[:,:12])\n",
    "\n",
    "# apply transforms to training and test data separately\n",
    "for i, data in enumerate([X_train, X_test]):\n",
    "    # transform continuous features\n",
    "    X_continuous = scaler.transform(data[:,:12])\n",
    "    # hold out binary features\n",
    "    X_binary = data[:,12:]\n",
    "    # training set\n",
    "    if i == 0:\n",
    "        # concatenate arrays for training set\n",
    "        X_train_trans = np.concatenate((X_continuous, X_binary), axis=1)\n",
    "    else:\n",
    "        # concatenate arrays for test set\n",
    "        X_test_trans = np.concatenate((X_continuous, X_binary), axis=1)"
   ]
  },
  {
   "cell_type": "code",
   "execution_count": 34,
   "metadata": {},
   "outputs": [
    {
     "data": {
      "image/png": "[encoded data removed]",
      "text/plain": [
       "<Figure size 432x288 with 1 Axes>"
      ]
     },
     "metadata": {},
     "output_type": "display_data"
    },
    {
     "name": "stdout",
     "output_type": "stream",
     "text": [
      "Accuracy on the training data is 0.929.\n",
      "Accuracy on the test data is 0.929.\n",
      "The model AUC for test data is 0.861\n"
     ]
    }
   ],
   "source": [
    "model = model_performance(LogisticRegression())"
   ]
  },
  {
   "cell_type": "code",
   "execution_count": 35,
   "metadata": {},
   "outputs": [
    {
     "data": {
      "text/plain": [
       "LogisticRegression(C=1.0, class_weight=None, dual=False, fit_intercept=True,\n",
       "          intercept_scaling=1, max_iter=100, multi_class='ovr', n_jobs=1,\n",
       "          penalty='l2', random_state=None, solver='liblinear', tol=0.0001,\n",
       "          verbose=0, warm_start=False)"
      ]
     },
     "execution_count": 35,
     "metadata": {},
     "output_type": "execute_result"
    }
   ],
   "source": [
    "model"
   ]
  },
  {
   "cell_type": "markdown",
   "metadata": {},
   "source": [
    "Without any optimization, we can predict patients who will convert to AD with 89% accuracy. Now, the classifier will be optimized."
   ]
  },
  {
   "cell_type": "code",
   "execution_count": 36,
   "metadata": {},
   "outputs": [
    {
     "data": {
      "image/png": "[encoded data removed]",
      "text/plain": [
       "<Figure size 432x288 with 1 Axes>"
      ]
     },
     "metadata": {},
     "output_type": "display_data"
    },
    {
     "name": "stdout",
     "output_type": "stream",
     "text": [
      "Accuracy on the training data is 0.93.\n",
      "Accuracy on the test data is 0.932.\n",
      "The model AUC for test data is 0.864\n",
      "The best parameters are {'C': 0.1, 'penalty': 'l2'}.\n"
     ]
    }
   ],
   "source": [
    "# parameters to optimize\n",
    "parameters = {'C' : [0.001, 0.1, 1, 10, 100], 'penalty' : ['l1', 'l2']}\n",
    "\n",
    "# run grid search\n",
    "model = model_performance(GridSearchCV(LogisticRegression(random_state=42), param_grid=parameters, cv=skf), cv=True)"
   ]
  },
  {
   "cell_type": "code",
   "execution_count": 37,
   "metadata": {},
   "outputs": [
    {
     "data": {
      "text/plain": [
       "GridSearchCV(cv=StratifiedKFold(n_splits=5, random_state=None, shuffle=False),\n",
       "       error_score='raise',\n",
       "       estimator=LogisticRegression(C=1.0, class_weight=None, dual=False, fit_intercept=True,\n",
       "          intercept_scaling=1, max_iter=100, multi_class='ovr', n_jobs=1,\n",
       "          penalty='l2', random_state=42, solver='liblinear', tol=0.0001,\n",
       "          verbose=0, warm_start=False),\n",
       "       fit_params=None, iid=True, n_jobs=1,\n",
       "       param_grid={'C': [0.001, 0.1, 1, 10, 100], 'penalty': ['l1', 'l2']},\n",
       "       pre_dispatch='2*n_jobs', refit=True, return_train_score='warn',\n",
       "       scoring=None, verbose=0)"
      ]
     },
     "execution_count": 37,
     "metadata": {},
     "output_type": "execute_result"
    }
   ],
   "source": [
    "model"
   ]
  },
  {
   "cell_type": "markdown",
   "metadata": {},
   "source": [
    "With optimization, our accuracy is about the same. Last, let's look at relative importance of the different features by multiplying the assigned coefficient by the feature standard deviation."
   ]
  },
  {
   "cell_type": "markdown",
   "metadata": {},
   "source": [
    "Next, let's evaluate the performance of another classifier."
   ]
  },
  {
   "cell_type": "markdown",
   "metadata": {},
   "source": [
    "### 3.2 Random forest "
   ]
  },
  {
   "cell_type": "code",
   "execution_count": 38,
   "metadata": {},
   "outputs": [],
   "source": [
    "from sklearn.ensemble import RandomForestClassifier"
   ]
  },
  {
   "cell_type": "code",
   "execution_count": 39,
   "metadata": {},
   "outputs": [
    {
     "data": {
      "image/png": "[encoded data removed]",
      "text/plain": [
       "<Figure size 432x288 with 1 Axes>"
      ]
     },
     "metadata": {},
     "output_type": "display_data"
    },
    {
     "name": "stdout",
     "output_type": "stream",
     "text": [
      "Accuracy on the training data is 0.994.\n",
      "Accuracy on the test data is 0.933.\n",
      "The model AUC for test data is 0.827\n"
     ]
    },
    {
     "data": {
      "text/plain": [
       "RandomForestClassifier(bootstrap=True, class_weight=None, criterion='gini',\n",
       "            max_depth=None, max_features='auto', max_leaf_nodes=None,\n",
       "            min_impurity_decrease=0.0, min_impurity_split=None,\n",
       "            min_samples_leaf=1, min_samples_split=2,\n",
       "            min_weight_fraction_leaf=0.0, n_estimators=10, n_jobs=1,\n",
       "            oob_score=False, random_state=None, verbose=0,\n",
       "            warm_start=False)"
      ]
     },
     "execution_count": 39,
     "metadata": {},
     "output_type": "execute_result"
    }
   ],
   "source": [
    "# evaluate random forest classifier\n",
    "model_performance(RandomForestClassifier())"
   ]
  },
  {
   "cell_type": "markdown",
   "metadata": {},
   "source": [
    "Without adjusting parameters, the random forest classifier slightly under performs a logistical regression one. Let's tune the hyperparameters."
   ]
  },
  {
   "cell_type": "code",
   "execution_count": 40,
   "metadata": {},
   "outputs": [
    {
     "data": {
      "image/png": "[encoded data removed]",
      "text/plain": [
       "<Figure size 432x288 with 1 Axes>"
      ]
     },
     "metadata": {},
     "output_type": "display_data"
    },
    {
     "name": "stdout",
     "output_type": "stream",
     "text": [
      "Accuracy on the training data is 1.0.\n",
      "Accuracy on the test data is 0.943.\n",
      "The model AUC for test data is 0.875\n",
      "The best parameters are {'n_estimators': 311, 'min_samples_split': 5, 'min_samples_leaf': 1, 'max_depth': 100, 'bootstrap': False}.\n"
     ]
    },
    {
     "data": {
      "text/plain": [
       "RandomizedSearchCV(cv=StratifiedKFold(n_splits=5, random_state=None, shuffle=False),\n",
       "          error_score='raise',\n",
       "          estimator=RandomForestClassifier(bootstrap=True, class_weight=None, criterion='gini',\n",
       "            max_depth=None, max_features='auto', max_leaf_nodes=None,\n",
       "            min_impurity_decrease=0.0, min_impurity_split=None,\n",
       "            min_samples_leaf=1, min_samples_split=2,\n",
       "            min_weight_fraction_leaf=0.0, n_estimators=10, n_jobs=4,\n",
       "            oob_score=False, random_state=None, verbose=0,\n",
       "            warm_start=False),\n",
       "          fit_params=None, iid=True, n_iter=100, n_jobs=1,\n",
       "          param_distributions={'n_estimators': [100, 311, 522, 733, 944, 1155, 1366, 1577, 1788, 2000], 'max_depth': [10, 20, 30, 40, 50, 60, 70, 80, 90, 100, 110, None], 'min_samples_split': [2, 5, 10], 'min_samples_leaf': [1, 2, 4], 'bootstrap': [True, False]},\n",
       "          pre_dispatch='2*n_jobs', random_state=None, refit=True,\n",
       "          return_train_score='warn', scoring=None, verbose=0)"
      ]
     },
     "execution_count": 40,
     "metadata": {},
     "output_type": "execute_result"
    }
   ],
   "source": [
    "# parameters to optimize\n",
    "# Number of trees in random forest\n",
    "n_estimators = [int(x) for x in np.linspace(start = 100, stop = 2000, num = 10)]\n",
    "# Maximum number of levels in tree\n",
    "max_depth = [int(x) for x in np.linspace(10, 110, num = 11)]\n",
    "max_depth.append(None)\n",
    "# Minimum number of samples required to split a node\n",
    "min_samples_split = [2, 5, 10]\n",
    "# Minimum number of samples required at each leaf node\n",
    "min_samples_leaf = [1, 2, 4]\n",
    "# Method of selecting samples for training each tree\n",
    "bootstrap = [True, False]\n",
    "# Create the random grid\n",
    "parameters = { 'n_estimators': n_estimators,\n",
    "               'max_depth': max_depth,\n",
    "               'min_samples_split': min_samples_split,\n",
    "               'min_samples_leaf': min_samples_leaf,\n",
    "               'bootstrap': bootstrap}\n",
    "\n",
    "# run grid search\n",
    "model_performance(RandomizedSearchCV(RandomForestClassifier(n_jobs=4), param_distributions=parameters, n_iter=100, cv=skf), cv=True)"
   ]
  },
  {
   "cell_type": "markdown",
   "metadata": {},
   "source": [
    "With optimization, the random forest classifier performs slightly better than the logistical regression model. However, it overfits the training data as the accuracy is 100%."
   ]
  },
  {
   "cell_type": "markdown",
   "metadata": {},
   "source": [
    "### 3.3 XGBoost classification"
   ]
  },
  {
   "cell_type": "markdown",
   "metadata": {},
   "source": [
    "Here we will implement a popular boosting algorithm."
   ]
  },
  {
   "cell_type": "code",
   "execution_count": 43,
   "metadata": {},
   "outputs": [],
   "source": [
    "from xgboost import XGBClassifier"
   ]
  },
  {
   "cell_type": "code",
   "execution_count": 52,
   "metadata": {},
   "outputs": [
    {
     "data": {
      "image/png": "[encoded data removed]",
      "text/plain": [
       "<Figure size 600x400 with 1 Axes>"
      ]
     },
     "metadata": {},
     "output_type": "display_data"
    },
    {
     "name": "stdout",
     "output_type": "stream",
     "text": [
      "Accuracy on the training data is 0.952.\n",
      "Accuracy on the test data is 0.935.\n",
      "The model AUC for test data is 0.876\n"
     ]
    },
    {
     "data": {
      "text/plain": [
       "XGBClassifier(base_score=0.5, booster='gbtree', colsample_bylevel=1,\n",
       "       colsample_bytree=1, gamma=0, learning_rate=0.1, max_delta_step=0,\n",
       "       max_depth=3, min_child_weight=1, missing=None, n_estimators=100,\n",
       "       n_jobs=1, nthread=None, objective='binary:logistic', random_state=0,\n",
       "       reg_alpha=0, reg_lambda=1, scale_pos_weight=1, seed=None,\n",
       "       silent=True, subsample=1)"
      ]
     },
     "execution_count": 52,
     "metadata": {},
     "output_type": "execute_result"
    }
   ],
   "source": [
    "model_performance(XGBClassifier())"
   ]
  },
  {
   "cell_type": "code",
   "execution_count": 45,
   "metadata": {},
   "outputs": [],
   "source": [
    "parameters = {'nthread':[4],\n",
    "              'objective':['binary:logistic'],\n",
    "              'learning_rate': [0.05, 0.06, 0.07, 0.08, 0.09, 0.1], \n",
    "              'max_depth': [6, 7, 8],\n",
    "              'min_child_weight': [11],\n",
    "              'silent': [1],\n",
    "              'subsample': [0.8],\n",
    "              'colsample_bytree': [0.7],\n",
    "              'n_estimators': [5, 50, 100, 500, 1000]}"
   ]
  },
  {
   "cell_type": "code",
   "execution_count": 48,
   "metadata": {},
   "outputs": [
    {
     "data": {
      "image/png": "[encoded data removed]",
      "text/plain": [
       "<Figure size 600x400 with 1 Axes>"
      ]
     },
     "metadata": {},
     "output_type": "display_data"
    },
    {
     "name": "stdout",
     "output_type": "stream",
     "text": [
      "Accuracy on the training data is 0.983.\n",
      "Accuracy on the test data is 0.938.\n",
      "The model AUC for test data is 0.871\n",
      "The best parameters are {'colsample_bytree': 0.7, 'learning_rate': 0.06, 'max_depth': 7, 'min_child_weight': 11, 'n_estimators': 500, 'nthread': 4, 'objective': 'binary:logistic', 'silent': 1, 'subsample': 0.8}.\n"
     ]
    },
    {
     "data": {
      "text/plain": [
       "GridSearchCV(cv=StratifiedKFold(n_splits=5, random_state=None, shuffle=False),\n",
       "       error_score='raise',\n",
       "       estimator=XGBClassifier(base_score=0.5, booster='gbtree', colsample_bylevel=1,\n",
       "       colsample_bytree=1, gamma=0, learning_rate=0.1, max_delta_step=0,\n",
       "       max_depth=3, min_child_weight=1, missing=None, n_estimators=100,\n",
       "       n_jobs=1, nthread=None, objective='binary:logistic', random_state=0,\n",
       "       reg_alpha=0, reg_lambda=1, scale_pos_weight=1, seed=None,\n",
       "       silent=True, subsample=1),\n",
       "       fit_params=None, iid=True, n_jobs=1,\n",
       "       param_grid={'nthread': [4], 'objective': ['binary:logistic'], 'learning_rate': [0.05, 0.06, 0.07, 0.08, 0.09, 0.1], 'max_depth': [6, 7, 8], 'min_child_weight': [11], 'silent': [1], 'subsample': [0.8], 'colsample_bytree': [0.7], 'n_estimators': [5, 50, 100, 500, 1000]},\n",
       "       pre_dispatch='2*n_jobs', refit=True, return_train_score='warn',\n",
       "       scoring=None, verbose=0)"
      ]
     },
     "execution_count": 48,
     "metadata": {},
     "output_type": "execute_result"
    }
   ],
   "source": [
    "model_performance(GridSearchCV(XGBClassifier(), param_grid=parameters, cv=skf), cv=True)"
   ]
  },
  {
   "cell_type": "markdown",
   "metadata": {},
   "source": [
    "This model is close to the one produced using a random forest classifier, but does so without overfitting the training data."
   ]
  },
  {
   "cell_type": "markdown",
   "metadata": {},
   "source": [
    "### 3.3 SVM "
   ]
  },
  {
   "cell_type": "markdown",
   "metadata": {},
   "source": [
    "In this section we'll evaluate the performance of a support vector machine."
   ]
  },
  {
   "cell_type": "code",
   "execution_count": 50,
   "metadata": {},
   "outputs": [],
   "source": [
    "from sklearn.svm import SVC"
   ]
  },
  {
   "cell_type": "code",
   "execution_count": 51,
   "metadata": {},
   "outputs": [
    {
     "data": {
      "image/png": "[encoded data removed]",
      "text/plain": [
       "<Figure size 600x400 with 1 Axes>"
      ]
     },
     "metadata": {},
     "output_type": "display_data"
    },
    {
     "name": "stdout",
     "output_type": "stream",
     "text": [
      "Accuracy on the training data is 0.937.\n",
      "Accuracy on the test data is 0.934.\n",
      "The model AUC for test data is 0.746\n"
     ]
    },
    {
     "data": {
      "text/plain": [
       "SVC(C=1.0, cache_size=200, class_weight=None, coef0=0.0,\n",
       "  decision_function_shape='ovr', degree=3, gamma='auto', kernel='rbf',\n",
       "  max_iter=-1, probability=True, random_state=None, shrinking=True,\n",
       "  tol=0.001, verbose=False)"
      ]
     },
     "execution_count": 51,
     "metadata": {},
     "output_type": "execute_result"
    }
   ],
   "source": [
    "model_performance(SVC(probability=True))"
   ]
  },
  {
   "cell_type": "code",
   "execution_count": 53,
   "metadata": {},
   "outputs": [],
   "source": [
    "C_range = np.logspace(-2, 10, 13)\n",
    "gamma_range = np.logspace(-9, 3, 13)\n",
    "\n",
    "parameters = {'C' : C_range,\n",
    "              'gamma' : gamma_range,\n",
    "              'class_weight' : [None, 'balanced']}"
   ]
  },
  {
   "cell_type": "code",
   "execution_count": null,
   "metadata": {},
   "outputs": [],
   "source": [
    "# run grid search\n",
    "model_performance(RandomizedSearchCV(SVC(probability=True), param_distributions=parameters, n_iter=100, cv=skf), cv=True)"
   ]
  }
 ],
 "metadata": {
  "kernelspec": {
   "display_name": "Python 3",
   "language": "python",
   "name": "python3"
  },
  "language_info": {
   "codemirror_mode": {
    "name": "ipython",
    "version": 3
   },
   "file_extension": ".py",
   "mimetype": "text/x-python",
   "name": "python",
   "nbconvert_exporter": "python",
   "pygments_lexer": "ipython3",
   "version": "3.6.5"
  }
 },
 "nbformat": 4,
 "nbformat_minor": 2
}
