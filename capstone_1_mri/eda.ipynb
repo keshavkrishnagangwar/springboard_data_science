{
 "cells": [
  {
   "cell_type": "markdown",
   "metadata": {},
   "source": [
    "<img src=\"images/mind_tree.jpg\" align=\"center\"/>"
   ]
  },
  {
   "cell_type": "markdown",
   "metadata": {},
   "source": [
    "# A Mind Without Time: Forcasting the Conversion to Alzheimer's Disease"
   ]
  },
  {
   "cell_type": "markdown",
   "metadata": {},
   "source": [
    "This project attempts to forcast the conversion of cognitively normal and persons with Mild Cognitive Impairment (MCI) to a diagnosis of Alzheimer's Disease (AD). Alzheimer's Disease is one of the most prevalent neurodegenerative disorders in North America. In Canada alone, there are 564,000 people diagnosed with dementia, a number that is expected to increase to nearly a million by 2031.Aside from the impact on an individual, dementia places a large burden on the healthcare system and persons involved with an affected individual. Dementia is currently estimated to cost 10.4 billion dollars in yearly expenses within Canada.\n",
    "\n",
    "Early diagnosis of AD is associated with a higher quality of life and a reduced cost on a healthcare system. However, detecting AD early in the disease progression is difficult due to the multifaceted nature of how neurodegeneration affects the brain, cognitive processing, and behavior. Clinical evaluation relies on assessment of a myriad of cognitive tests and biomarkers that are not always identifiable in patients with MCI, a precursor to AD. \n",
    "\n",
    "The multifaceted impact of cognitive impairment and neurodegeneration in MCI and AD suggests that machine learning algorithms such as neural networks may be beneficial in identifying and predicting disease progression. Current studies typically only incorporate one form of data, however, often relying solely on features extracted from structural magnetic resonance imaging (MRI) scans. Other forms of data that show promise in classification with machine learning algorithms include cognitive assessments and the connectivity patterns of resting-state functional networks. This is because spatial and episodic memory, cognitive processes that are typically the first affected in MCI and AD, rely on complex, dynamic interactions of distributed neural networks and are therefore susceptible to the impact of neurodegeneration. Critically, there has yet to be an assessment of how machine learning algorithms perform using features extracted from structural and functional MRI data, as well as cognitive assessments. This project aims to remedy this.\n",
    "\n",
    "**Target audience and use cases:**\n",
    "\n",
    "Healthcare providers. Structural and resting-state functional MRIs are one of easiest and fastest methods of brain imaging. Using them to classify persons at risk or with AD would assist in providing targeted treatments."
   ]
  },
  {
   "cell_type": "code",
   "execution_count": 179,
   "metadata": {},
   "outputs": [
    {
     "data": {
      "text/html": [
       "<script>requirejs.config({paths: { 'plotly': ['https://cdn.plot.ly/plotly-latest.min']},});if(!window.Plotly) {{require(['plotly'],function(plotly) {window.Plotly=plotly;});}}</script>"
      ],
      "text/vnd.plotly.v1+html": [
       "<script>requirejs.config({paths: { 'plotly': ['https://cdn.plot.ly/plotly-latest.min']},});if(!window.Plotly) {{require(['plotly'],function(plotly) {window.Plotly=plotly;});}}</script>"
      ]
     },
     "metadata": {},
     "output_type": "display_data"
    }
   ],
   "source": [
    "import pandas as pd\n",
    "import matplotlib.pyplot as plt\n",
    "import seaborn as sns\n",
    "import plotly\n",
    "import plotly.graph_objs as go\n",
    "\n",
    "# python file with metadata\n",
    "import vector_dict\n",
    "\n",
    "plotly.offline.init_notebook_mode(connected=True)\n",
    "%matplotlib inline"
   ]
  },
  {
   "cell_type": "code",
   "execution_count": 252,
   "metadata": {},
   "outputs": [],
   "source": [
    "# load cleaned dataframe\n",
    "df = pd.read_csv('df_cleaned.csv', index_col=0)\n",
    "# make headers lower case\n",
    "df.columns = map(str.lower, df.columns)"
   ]
  },
  {
   "cell_type": "markdown",
   "metadata": {},
   "source": [
    "## 2. Exploratory Data Analysis"
   ]
  },
  {
   "cell_type": "markdown",
   "metadata": {},
   "source": [
    "### 2.1 Overview of Patient Characteristics"
   ]
  },
  {
   "cell_type": "markdown",
   "metadata": {},
   "source": [
    "In this first section, we'll look at some of the demographic information available in the dataset and how it relates to the different levels of cognitive function."
   ]
  },
  {
   "cell_type": "code",
   "execution_count": 254,
   "metadata": {},
   "outputs": [
    {
     "data": {
      "text/html": [
       "<iframe id=\"igraph\" scrolling=\"no\" style=\"border:none;\" seamless=\"seamless\" src=\"https://plot.ly/~ilikebrains/54.embed\" height=\"525px\" width=\"100%\"></iframe>"
      ],
      "text/plain": [
       "<plotly.tools.PlotlyDisplay object>"
      ]
     },
     "execution_count": 254,
     "metadata": {},
     "output_type": "execute_result"
    }
   ],
   "source": [
    "# extract entries from baseline\n",
    "df_bl = df[df.viscode == 0]\n",
    "# extract gender series\n",
    "x0 = df_bl.age[df.ptgender == 'Male']\n",
    "x1 = df_bl.age[df.ptgender == 'Female']\n",
    "\n",
    "# plot with plotly\n",
    "trace_m = go.Histogram(\n",
    "    x = x0,\n",
    "    name = 'Male',\n",
    "    marker=dict(\n",
    "                color='rgb(116,159,199)'),\n",
    "    opacity = 0.75)\n",
    "\n",
    "trace_f = go.Histogram(\n",
    "    x = x1,\n",
    "    name = 'Female',\n",
    "    marker=dict(\n",
    "                color='rgb(245,169,114)'),\n",
    "    opacity = 0.75)\n",
    "\n",
    "data = [trace_m, trace_f]\n",
    "\n",
    "layout = go.Layout(\n",
    "    title='Distribution of Age',\n",
    "    xaxis=dict(\n",
    "        title='Age'\n",
    "    ),\n",
    "    yaxis=dict(\n",
    "        title='Count'\n",
    "    ),\n",
    "    bargap=0.2,\n",
    "    bargroupgap=0.1\n",
    ")\n",
    "\n",
    "fig = go.Figure(data=data, layout=layout)\n",
    "py.iplot(fig, filename='mri')"
   ]
  },
  {
   "cell_type": "markdown",
   "metadata": {},
   "source": [
    "This distribution shows us that the average age of baseline measurements is around 74 years old. There are also more men than women in the dataset, particularly for patients that are older than the mean age. Importantly though, the distribution looks approximately normal."
   ]
  },
  {
   "cell_type": "code",
   "execution_count": 255,
   "metadata": {},
   "outputs": [],
   "source": [
    "# calculate mean age across sample and gender\n",
    "mean_age = df_bl.age.mean()\n",
    "f_age = df_bl.groupby(\"ptgender\").age.mean()[0]\n",
    "m_age = df_bl.groupby(\"ptgender\").age.mean()[1]\n",
    "\n",
    "# calculate percent male/female\n",
    "n = len(df_bl)\n",
    "f_per = df_bl.groupby(\"ptgender\").age.count()[0]/n*100\n",
    "m_per = df_bl.groupby(\"ptgender\").age.count()[1]/n*100"
   ]
  },
  {
   "cell_type": "code",
   "execution_count": 334,
   "metadata": {},
   "outputs": [
    {
     "data": {
      "text/html": [
       "<iframe id=\"igraph\" scrolling=\"no\" style=\"border:none;\" seamless=\"seamless\" src=\"https://plot.ly/~ilikebrains/54.embed\" height=\"525px\" width=\"100%\"></iframe>"
      ],
      "text/plain": [
       "<plotly.tools.PlotlyDisplay object>"
      ]
     },
     "execution_count": 334,
     "metadata": {},
     "output_type": "execute_result"
    }
   ],
   "source": [
    "# plot with plotly\n",
    "trace1 = go.Bar(\n",
    "                y=['Male', 'Group', 'Female'],\n",
    "                x=[m_age.round(1), mean_age.round(1), f_age.round(1)],\n",
    "                orientation='h',\n",
    "                hoverinfo='x',\n",
    "                marker=dict(\n",
    "                    color=['rgb(116,159,199)', 'rgb(204,204,204)',\n",
    "                    'rgb(245,169,114)']),\n",
    "                opacity = 0.75\n",
    "                )\n",
    "\n",
    "trace2 = go.Bar(\n",
    "                y=['Male', 'Female'],\n",
    "                x=[m_per, f_per],\n",
    "                orientation='h',\n",
    "                hoverinfo='x',\n",
    "                marker=dict(\n",
    "                    color=['rgb(116,159,199)', 'rgb(245,169,114)']),\n",
    "                opacity = 0.75\n",
    "                )\n",
    "\n",
    "# make subplots\n",
    "fig = plotly.tools.make_subplots(cols=2, subplot_titles=('Mean Age', 'Percent of Sample by Gender'), print_grid=False)\n",
    "fig.append_trace(trace1, 1, 1)\n",
    "fig.append_trace(trace2, 1, 2)\n",
    "\n",
    "# update layout\n",
    "fig['layout'].update(showlegend=False)\n",
    "fig['layout']['xaxis1'].update(range=[70,75])\n",
    "py.iplot(fig, filename='mri')"
   ]
  },
  {
   "cell_type": "markdown",
   "metadata": {},
   "source": [
    "Next, let's break down the sample by diagnosis at baseline, then explore some of the relationships between our predictor and demographic variables."
   ]
  },
  {
   "cell_type": "code",
   "execution_count": 257,
   "metadata": {},
   "outputs": [
    {
     "data": {
      "text/plain": [
       "array(['CN', 'AD', 'LMCI', 'EMCI', 'SMC'], dtype=object)"
      ]
     },
     "execution_count": 257,
     "metadata": {},
     "output_type": "execute_result"
    }
   ],
   "source": [
    "df_bl.dx_bl.unique()"
   ]
  },
  {
   "cell_type": "markdown",
   "metadata": {},
   "source": [
    "The diagnoses at baseline are coded above. Here are what they represent:\n",
    "\n",
    "* CN = cognitively normal\n",
    "* AD = Alzheimer's Disease\n",
    "* LMCI = late or amnestic mild cognitive impairment\n",
    "* EMCI = early mild cognitive impairment\n",
    "* SMC = significant memory concern\n",
    "\n",
    "A full breakdown of the inclusion criteria for the different diagnoses can be found [here](https://clinicaltrials.gov/ct2/show/NCT01231971). Briefly, significant memory concern patients are self reporters who are not showing memory impairments on clinical assessments but who report trouble with their memory. They have to be otherwise cognitively normal. Early MCI is characterized as the mildest symptomatic form of MCI and AD, while late MCI is characterized as having more pronounced amnesia. Let's now look at some of the characteristics of patients with the different baseline diagnoses."
   ]
  },
  {
   "cell_type": "code",
   "execution_count": 258,
   "metadata": {},
   "outputs": [],
   "source": [
    "# subset dataframes for plotting\n",
    "df_cn = df_bl[df_bl['dx_bl'] == 'CN']\n",
    "df_ad = df_bl[df_bl['dx_bl'] == 'AD']\n",
    "df_lm = df_bl[df_bl['dx_bl'] == 'LMCI']\n",
    "df_em = df_bl[df_bl['dx_bl'] == 'EMCI']\n",
    "df_sm = df_bl[df_bl['dx_bl'] == 'SMC']"
   ]
  },
  {
   "cell_type": "code",
   "execution_count": 269,
   "metadata": {},
   "outputs": [],
   "source": [
    "def plot_dx(v):\n",
    "    \"\"\"This method takes a variable name as an input and generates a series of\n",
    "       of box plots using plotly for each diagnosis category.\"\"\"\n",
    "    \n",
    "    trace_cn = go.Box(\n",
    "                      y=df_cn[v],\n",
    "                      name='CN')\n",
    "\n",
    "    trace_ad = go.Box(\n",
    "                      y=df_ad[v],\n",
    "                      name='AD')\n",
    "\n",
    "    trace_lm = go.Box(\n",
    "                      y=df_lm[v],\n",
    "                      name='LMCI')\n",
    "\n",
    "    trace_em = go.Box(\n",
    "                      y=df_em[v],\n",
    "                      name='EMCI')\n",
    "\n",
    "    trace_sm = go.Box(\n",
    "                      y=df_sm[v],\n",
    "                      name='SMC')\n",
    "    \n",
    "    layout= go.Layout(\n",
    "                      title = '{} by Baseline Diagnosis'.format(v.capitalize()))\n",
    "    # link traces\n",
    "    data = [trace_cn, trace_ad, trace_lm, trace_em, trace_sm]\n",
    "    # link data and layout\n",
    "    fig = go.Figure(data=data, layout=layout)\n",
    "    # generate plot\n",
    "    return py.iplot(fig, filename='mri')"
   ]
  },
  {
   "cell_type": "code",
   "execution_count": 270,
   "metadata": {},
   "outputs": [
    {
     "data": {
      "text/html": [
       "<iframe id=\"igraph\" scrolling=\"no\" style=\"border:none;\" seamless=\"seamless\" src=\"https://plot.ly/~ilikebrains/54.embed\" height=\"525px\" width=\"100%\"></iframe>"
      ],
      "text/plain": [
       "<plotly.tools.PlotlyDisplay object>"
      ]
     },
     "execution_count": 270,
     "metadata": {},
     "output_type": "execute_result"
    }
   ],
   "source": [
    "# plot age by diagnosis category\n",
    "plot_dx('age')"
   ]
  },
  {
   "cell_type": "markdown",
   "metadata": {},
   "source": [
    "Overall, the range of ages between the different diagnosis types looks similar. Importantly, the variance of cognitively normal individuals appears to match that of the other categories. Next, let's look at how the different groups perform on the cognitive tests."
   ]
  },
  {
   "cell_type": "markdown",
   "metadata": {},
   "source": [
    "### 2.2 Performance on Cognitive Assessments"
   ]
  },
  {
   "cell_type": "code",
   "execution_count": 323,
   "metadata": {},
   "outputs": [
    {
     "name": "stdout",
     "output_type": "stream",
     "text": [
      "The cognitive assessments that will be looked at are ['cdrsb_bl', 'adas13_bl', 'mmse_bl', 'moca_bl']\n"
     ]
    }
   ],
   "source": [
    "# create list of baseline cognitive assessments\n",
    "tests = [t.lower() for t in vector_dict.metadata['cognitive_tests'] if 'bl' in t]\n",
    "# dispaly list\n",
    "print(f'The cognitive assessments that will be looked at are {tests}')"
   ]
  },
  {
   "cell_type": "code",
   "execution_count": 271,
   "metadata": {},
   "outputs": [
    {
     "data": {
      "text/html": [
       "<iframe id=\"igraph\" scrolling=\"no\" style=\"border:none;\" seamless=\"seamless\" src=\"https://plot.ly/~ilikebrains/54.embed\" height=\"525px\" width=\"100%\"></iframe>"
      ],
      "text/plain": [
       "<plotly.tools.PlotlyDisplay object>"
      ]
     },
     "execution_count": 271,
     "metadata": {},
     "output_type": "execute_result"
    }
   ],
   "source": [
    "plot_dx(tests[0])"
   ]
  },
  {
   "cell_type": "markdown",
   "metadata": {},
   "source": [
    "As we would expect, the scores on the CDRSB are almost zero for the CN and SMC groups. There are much higher ratings for AD, and interestingly there is only a small difference between early and late MCI."
   ]
  },
  {
   "cell_type": "code",
   "execution_count": 272,
   "metadata": {},
   "outputs": [
    {
     "data": {
      "text/html": [
       "<iframe id=\"igraph\" scrolling=\"no\" style=\"border:none;\" seamless=\"seamless\" src=\"https://plot.ly/~ilikebrains/54.embed\" height=\"525px\" width=\"100%\"></iframe>"
      ],
      "text/plain": [
       "<plotly.tools.PlotlyDisplay object>"
      ]
     },
     "execution_count": 272,
     "metadata": {},
     "output_type": "execute_result"
    }
   ],
   "source": [
    "# plot ADAS13\n",
    "plot_dx(tests[1])"
   ]
  },
  {
   "cell_type": "markdown",
   "metadata": {},
   "source": [
    "We can see a similar trend with the ADAS13, although the differences between early and late MCI appear more pronounced."
   ]
  },
  {
   "cell_type": "code",
   "execution_count": 273,
   "metadata": {},
   "outputs": [
    {
     "data": {
      "text/html": [
       "<iframe id=\"igraph\" scrolling=\"no\" style=\"border:none;\" seamless=\"seamless\" src=\"https://plot.ly/~ilikebrains/54.embed\" height=\"525px\" width=\"100%\"></iframe>"
      ],
      "text/plain": [
       "<plotly.tools.PlotlyDisplay object>"
      ]
     },
     "execution_count": 273,
     "metadata": {},
     "output_type": "execute_result"
    }
   ],
   "source": [
    "# plot MMSE\n",
    "plot_dx(tests[2])"
   ]
  },
  {
   "cell_type": "markdown",
   "metadata": {},
   "source": [
    "Here, the scale is inversed with lower score representing more cognitive impairment. Considering this, the overall trend between groups looks similar, although there are more outliers in the CN and SMC groups indicating that the MMSE may not be as good a metric for classification of AD."
   ]
  },
  {
   "cell_type": "code",
   "execution_count": 274,
   "metadata": {},
   "outputs": [
    {
     "data": {
      "text/html": [
       "<iframe id=\"igraph\" scrolling=\"no\" style=\"border:none;\" seamless=\"seamless\" src=\"https://plot.ly/~ilikebrains/54.embed\" height=\"525px\" width=\"100%\"></iframe>"
      ],
      "text/plain": [
       "<plotly.tools.PlotlyDisplay object>"
      ]
     },
     "execution_count": 274,
     "metadata": {},
     "output_type": "execute_result"
    }
   ],
   "source": [
    "# plot MOCA\n",
    "plot_dx(tests[3])"
   ]
  },
  {
   "cell_type": "markdown",
   "metadata": {},
   "source": [
    "Again, we can see the same overall trend. However, given that the MOCA was only conducted for ~50% of the sample, it may be worth building a model without it since it doesn't appear to differentiate the groups any more than the other assessments.\n",
    "\n",
    "Next, let's look at the correlations between performamce on the different cognitive assessments. It is important to avoid highly correlated measures as features due to overfitting the model and the matrices will be important when we do some feature engineering."
   ]
  },
  {
   "cell_type": "code",
   "execution_count": 275,
   "metadata": {},
   "outputs": [],
   "source": [
    "from IPython.display import display_html\n",
    "def display_side_by_side(*args):\n",
    "    html_str=''\n",
    "    for df in args:\n",
    "        html_str+=df.to_html()\n",
    "    display_html(html_str.replace('table','table style=\"display:inline\"'),raw=True)"
   ]
  },
  {
   "cell_type": "code",
   "execution_count": 324,
   "metadata": {},
   "outputs": [
    {
     "data": {
      "text/html": [
       "<table style=\"display:inline\" border=\"1\" class=\"dataframe\">\n",
       "  <thead>\n",
       "    <tr style=\"text-align: right;\">\n",
       "      <th></th>\n",
       "      <th>age</th>\n",
       "      <th>cdrsb_bl</th>\n",
       "      <th>adas13_bl</th>\n",
       "      <th>mmse_bl</th>\n",
       "      <th>moca_bl</th>\n",
       "    </tr>\n",
       "  </thead>\n",
       "  <tbody>\n",
       "    <tr>\n",
       "      <th>age</th>\n",
       "      <td>1.000000</td>\n",
       "      <td>0.059861</td>\n",
       "      <td>0.139857</td>\n",
       "      <td>-0.132319</td>\n",
       "      <td>-0.187296</td>\n",
       "    </tr>\n",
       "    <tr>\n",
       "      <th>cdrsb_bl</th>\n",
       "      <td>0.059861</td>\n",
       "      <td>1.000000</td>\n",
       "      <td>0.743807</td>\n",
       "      <td>-0.719020</td>\n",
       "      <td>-0.673245</td>\n",
       "    </tr>\n",
       "    <tr>\n",
       "      <th>adas13_bl</th>\n",
       "      <td>0.139857</td>\n",
       "      <td>0.743807</td>\n",
       "      <td>1.000000</td>\n",
       "      <td>-0.741212</td>\n",
       "      <td>-0.784323</td>\n",
       "    </tr>\n",
       "    <tr>\n",
       "      <th>mmse_bl</th>\n",
       "      <td>-0.132319</td>\n",
       "      <td>-0.719020</td>\n",
       "      <td>-0.741212</td>\n",
       "      <td>1.000000</td>\n",
       "      <td>0.707536</td>\n",
       "    </tr>\n",
       "    <tr>\n",
       "      <th>moca_bl</th>\n",
       "      <td>-0.187296</td>\n",
       "      <td>-0.673245</td>\n",
       "      <td>-0.784323</td>\n",
       "      <td>0.707536</td>\n",
       "      <td>1.000000</td>\n",
       "    </tr>\n",
       "  </tbody>\n",
       "</table style=\"display:inline\"><table style=\"display:inline\" border=\"1\" class=\"dataframe\">\n",
       "  <thead>\n",
       "    <tr style=\"text-align: right;\">\n",
       "      <th></th>\n",
       "      <th>age</th>\n",
       "      <th>cdrsb_bl</th>\n",
       "      <th>adas13_bl</th>\n",
       "      <th>mmse_bl</th>\n",
       "      <th>moca_bl</th>\n",
       "    </tr>\n",
       "  </thead>\n",
       "  <tbody>\n",
       "    <tr>\n",
       "      <th>age</th>\n",
       "      <td>1.000000</td>\n",
       "      <td>0.117062</td>\n",
       "      <td>0.229192</td>\n",
       "      <td>-0.069383</td>\n",
       "      <td>-0.343349</td>\n",
       "    </tr>\n",
       "    <tr>\n",
       "      <th>cdrsb_bl</th>\n",
       "      <td>0.117062</td>\n",
       "      <td>1.000000</td>\n",
       "      <td>0.083382</td>\n",
       "      <td>0.019856</td>\n",
       "      <td>-0.034113</td>\n",
       "    </tr>\n",
       "    <tr>\n",
       "      <th>adas13_bl</th>\n",
       "      <td>0.229192</td>\n",
       "      <td>0.083382</td>\n",
       "      <td>1.000000</td>\n",
       "      <td>-0.170663</td>\n",
       "      <td>-0.430711</td>\n",
       "    </tr>\n",
       "    <tr>\n",
       "      <th>mmse_bl</th>\n",
       "      <td>-0.069383</td>\n",
       "      <td>0.019856</td>\n",
       "      <td>-0.170663</td>\n",
       "      <td>1.000000</td>\n",
       "      <td>0.226774</td>\n",
       "    </tr>\n",
       "    <tr>\n",
       "      <th>moca_bl</th>\n",
       "      <td>-0.343349</td>\n",
       "      <td>-0.034113</td>\n",
       "      <td>-0.430711</td>\n",
       "      <td>0.226774</td>\n",
       "      <td>1.000000</td>\n",
       "    </tr>\n",
       "  </tbody>\n",
       "</table style=\"display:inline\"><table style=\"display:inline\" border=\"1\" class=\"dataframe\">\n",
       "  <thead>\n",
       "    <tr style=\"text-align: right;\">\n",
       "      <th></th>\n",
       "      <th>age</th>\n",
       "      <th>cdrsb_bl</th>\n",
       "      <th>adas13_bl</th>\n",
       "      <th>mmse_bl</th>\n",
       "      <th>moca_bl</th>\n",
       "    </tr>\n",
       "  </thead>\n",
       "  <tbody>\n",
       "    <tr>\n",
       "      <th>age</th>\n",
       "      <td>1.000000</td>\n",
       "      <td>0.081323</td>\n",
       "      <td>-0.018548</td>\n",
       "      <td>-0.050178</td>\n",
       "      <td>-0.030545</td>\n",
       "    </tr>\n",
       "    <tr>\n",
       "      <th>cdrsb_bl</th>\n",
       "      <td>0.081323</td>\n",
       "      <td>1.000000</td>\n",
       "      <td>0.449607</td>\n",
       "      <td>-0.298250</td>\n",
       "      <td>-0.396443</td>\n",
       "    </tr>\n",
       "    <tr>\n",
       "      <th>adas13_bl</th>\n",
       "      <td>-0.018548</td>\n",
       "      <td>0.449607</td>\n",
       "      <td>1.000000</td>\n",
       "      <td>-0.446169</td>\n",
       "      <td>-0.726418</td>\n",
       "    </tr>\n",
       "    <tr>\n",
       "      <th>mmse_bl</th>\n",
       "      <td>-0.050178</td>\n",
       "      <td>-0.298250</td>\n",
       "      <td>-0.446169</td>\n",
       "      <td>1.000000</td>\n",
       "      <td>0.541724</td>\n",
       "    </tr>\n",
       "    <tr>\n",
       "      <th>moca_bl</th>\n",
       "      <td>-0.030545</td>\n",
       "      <td>-0.396443</td>\n",
       "      <td>-0.726418</td>\n",
       "      <td>0.541724</td>\n",
       "      <td>1.000000</td>\n",
       "    </tr>\n",
       "  </tbody>\n",
       "</table style=\"display:inline\">"
      ]
     },
     "metadata": {},
     "output_type": "display_data"
    }
   ],
   "source": [
    "# add age to test list for correlations\n",
    "tests.insert(0, 'age')\n",
    "# display correlation matrices for sample, CN, and AD\n",
    "display_side_by_side(df_bl[tests].corr(), \n",
    "                     df_cn[tests].corr(),\n",
    "                     df_ad[tests].corr())"
   ]
  },
  {
   "cell_type": "code",
   "execution_count": 325,
   "metadata": {},
   "outputs": [
    {
     "data": {
      "text/html": [
       "<table style=\"display:inline\" border=\"1\" class=\"dataframe\">\n",
       "  <thead>\n",
       "    <tr style=\"text-align: right;\">\n",
       "      <th></th>\n",
       "      <th>age</th>\n",
       "      <th>cdrsb_bl</th>\n",
       "      <th>adas13_bl</th>\n",
       "      <th>mmse_bl</th>\n",
       "      <th>moca_bl</th>\n",
       "    </tr>\n",
       "  </thead>\n",
       "  <tbody>\n",
       "    <tr>\n",
       "      <th>age</th>\n",
       "      <td>1.000000</td>\n",
       "      <td>0.120102</td>\n",
       "      <td>0.232009</td>\n",
       "      <td>-0.092579</td>\n",
       "      <td>-0.179436</td>\n",
       "    </tr>\n",
       "    <tr>\n",
       "      <th>cdrsb_bl</th>\n",
       "      <td>0.120102</td>\n",
       "      <td>1.000000</td>\n",
       "      <td>-0.022905</td>\n",
       "      <td>-0.098121</td>\n",
       "      <td>-0.224284</td>\n",
       "    </tr>\n",
       "    <tr>\n",
       "      <th>adas13_bl</th>\n",
       "      <td>0.232009</td>\n",
       "      <td>-0.022905</td>\n",
       "      <td>1.000000</td>\n",
       "      <td>-0.123475</td>\n",
       "      <td>-0.423262</td>\n",
       "    </tr>\n",
       "    <tr>\n",
       "      <th>mmse_bl</th>\n",
       "      <td>-0.092579</td>\n",
       "      <td>-0.098121</td>\n",
       "      <td>-0.123475</td>\n",
       "      <td>1.000000</td>\n",
       "      <td>0.329693</td>\n",
       "    </tr>\n",
       "    <tr>\n",
       "      <th>moca_bl</th>\n",
       "      <td>-0.179436</td>\n",
       "      <td>-0.224284</td>\n",
       "      <td>-0.423262</td>\n",
       "      <td>0.329693</td>\n",
       "      <td>1.000000</td>\n",
       "    </tr>\n",
       "  </tbody>\n",
       "</table style=\"display:inline\"><table style=\"display:inline\" border=\"1\" class=\"dataframe\">\n",
       "  <thead>\n",
       "    <tr style=\"text-align: right;\">\n",
       "      <th></th>\n",
       "      <th>age</th>\n",
       "      <th>cdrsb_bl</th>\n",
       "      <th>adas13_bl</th>\n",
       "      <th>mmse_bl</th>\n",
       "      <th>moca_bl</th>\n",
       "    </tr>\n",
       "  </thead>\n",
       "  <tbody>\n",
       "    <tr>\n",
       "      <th>age</th>\n",
       "      <td>1.000000</td>\n",
       "      <td>0.028404</td>\n",
       "      <td>0.355035</td>\n",
       "      <td>-0.272018</td>\n",
       "      <td>-0.281299</td>\n",
       "    </tr>\n",
       "    <tr>\n",
       "      <th>cdrsb_bl</th>\n",
       "      <td>0.028404</td>\n",
       "      <td>1.000000</td>\n",
       "      <td>0.154609</td>\n",
       "      <td>-0.111594</td>\n",
       "      <td>-0.212626</td>\n",
       "    </tr>\n",
       "    <tr>\n",
       "      <th>adas13_bl</th>\n",
       "      <td>0.355035</td>\n",
       "      <td>0.154609</td>\n",
       "      <td>1.000000</td>\n",
       "      <td>-0.362637</td>\n",
       "      <td>-0.472468</td>\n",
       "    </tr>\n",
       "    <tr>\n",
       "      <th>mmse_bl</th>\n",
       "      <td>-0.272018</td>\n",
       "      <td>-0.111594</td>\n",
       "      <td>-0.362637</td>\n",
       "      <td>1.000000</td>\n",
       "      <td>0.319844</td>\n",
       "    </tr>\n",
       "    <tr>\n",
       "      <th>moca_bl</th>\n",
       "      <td>-0.281299</td>\n",
       "      <td>-0.212626</td>\n",
       "      <td>-0.472468</td>\n",
       "      <td>0.319844</td>\n",
       "      <td>1.000000</td>\n",
       "    </tr>\n",
       "  </tbody>\n",
       "</table style=\"display:inline\"><table style=\"display:inline\" border=\"1\" class=\"dataframe\">\n",
       "  <thead>\n",
       "    <tr style=\"text-align: right;\">\n",
       "      <th></th>\n",
       "      <th>age</th>\n",
       "      <th>cdrsb_bl</th>\n",
       "      <th>adas13_bl</th>\n",
       "      <th>mmse_bl</th>\n",
       "      <th>moca_bl</th>\n",
       "    </tr>\n",
       "  </thead>\n",
       "  <tbody>\n",
       "    <tr>\n",
       "      <th>age</th>\n",
       "      <td>1.000000</td>\n",
       "      <td>-0.019251</td>\n",
       "      <td>0.102015</td>\n",
       "      <td>-0.115877</td>\n",
       "      <td>-0.140551</td>\n",
       "    </tr>\n",
       "    <tr>\n",
       "      <th>cdrsb_bl</th>\n",
       "      <td>-0.019251</td>\n",
       "      <td>1.000000</td>\n",
       "      <td>0.278052</td>\n",
       "      <td>-0.177689</td>\n",
       "      <td>-0.210040</td>\n",
       "    </tr>\n",
       "    <tr>\n",
       "      <th>adas13_bl</th>\n",
       "      <td>0.102015</td>\n",
       "      <td>0.278052</td>\n",
       "      <td>1.000000</td>\n",
       "      <td>-0.390636</td>\n",
       "      <td>-0.581511</td>\n",
       "    </tr>\n",
       "    <tr>\n",
       "      <th>mmse_bl</th>\n",
       "      <td>-0.115877</td>\n",
       "      <td>-0.177689</td>\n",
       "      <td>-0.390636</td>\n",
       "      <td>1.000000</td>\n",
       "      <td>0.518924</td>\n",
       "    </tr>\n",
       "    <tr>\n",
       "      <th>moca_bl</th>\n",
       "      <td>-0.140551</td>\n",
       "      <td>-0.210040</td>\n",
       "      <td>-0.581511</td>\n",
       "      <td>0.518924</td>\n",
       "      <td>1.000000</td>\n",
       "    </tr>\n",
       "  </tbody>\n",
       "</table style=\"display:inline\">"
      ]
     },
     "metadata": {},
     "output_type": "display_data"
    }
   ],
   "source": [
    "# display correlation matrices for sample, CN, and AD\n",
    "display_side_by_side(df_sm[tests].corr(), \n",
    "                     df_em[tests].corr(),\n",
    "                     df_lm[tests].corr())"
   ]
  },
  {
   "cell_type": "code",
   "execution_count": 333,
   "metadata": {},
   "outputs": [
    {
     "data": {
      "text/html": [
       "<iframe id=\"igraph\" scrolling=\"no\" style=\"border:none;\" seamless=\"seamless\" src=\"https://plot.ly/~ilikebrains/54.embed\" height=\"525px\" width=\"100%\"></iframe>"
      ],
      "text/plain": [
       "<plotly.tools.PlotlyDisplay object>"
      ]
     },
     "execution_count": 333,
     "metadata": {},
     "output_type": "execute_result"
    }
   ],
   "source": [
    "trace_cn = go.Heatmap(\n",
    "                      z=df_cn[tests].corr().values.tolist()[::-1],\n",
    "                      x=tests,\n",
    "                      y=tests[::-1],\n",
    "                      hoverinfo='x+y+z')\n",
    "\n",
    "trace_bl = go.Heatmap(\n",
    "                      z=df_bl[tests].corr().values.tolist()[::-1],\n",
    "                      x=tests,\n",
    "                      y=tests[::-1],\n",
    "                      showscale=False,\n",
    "                      hoverinfo='x+y+z')\n",
    "\n",
    "trace_ad = go.Heatmap(\n",
    "                      z=df_ad[tests].corr().values.tolist()[::-1],\n",
    "                      x=tests,\n",
    "                      y=tests[::-1],\n",
    "                      showscale=False,\n",
    "                      hoverinfo='x+y+z')\n",
    "\n",
    "trace_sm = go.Heatmap(\n",
    "                      z=df_sm[tests].corr().values.tolist()[::-1],\n",
    "                      x=tests,\n",
    "                      y=tests[::-1],\n",
    "                      showscale=False,\n",
    "                      hoverinfo='x+y+z')\n",
    "\n",
    "trace_em = go.Heatmap(\n",
    "                      z=df_em[tests].corr().values.tolist()[::-1],\n",
    "                      x=tests,\n",
    "                      y=tests[::-1],\n",
    "                      showscale=False,\n",
    "                      hoverinfo='x+y+z')\n",
    "\n",
    "trace_lm = go.Heatmap(\n",
    "                      z=df_lm[tests].corr().values.tolist()[::-1],\n",
    "                      x=tests,\n",
    "                      y=tests[::-1],\n",
    "                      showscale=False,\n",
    "                      hoverinfo='x+y+z')\n",
    "\n",
    "# make subplots\n",
    "fig = plotly.tools.make_subplots(rows=2, cols=3, subplot_titles=('Baseline', 'CN', 'AD', 'SMC', 'EMCI', 'LMCI'), print_grid=False)\n",
    "fig.append_trace(trace_bl, 1, 1)\n",
    "fig.append_trace(trace_cn, 1, 2)\n",
    "fig.append_trace(trace_ad, 1, 3)\n",
    "fig.append_trace(trace_sm, 2, 1)\n",
    "fig.append_trace(trace_em, 2, 2)\n",
    "fig.append_trace(trace_lm, 2, 3)\n",
    "\n",
    "fig['layout'].update(showlegend=False)\n",
    "py.iplot(fig, filename='mri')"
   ]
  },
  {
   "cell_type": "markdown",
   "metadata": {},
   "source": [
    "There are two primary points to note in these heatmaps:\n",
    "\n",
    "1. The measures overall are not strongly correlated, except in the case of AD and late MCI. In AD, the CDRSB and the ADAS13 become strongly correlated. This is interesting and may be useful in modeling in that **we may consider using the correlation values between these two tests as a feature itself**. This correlation is there in late MCI as well, although it is not as strong. \n",
    "\n",
    "2. The MOCA has a fairly strong correlation with the MMSE and a negative correltion with the ADAS13. Since we will run an initial model without the MOCA, we can leave this for now."
   ]
  },
  {
   "cell_type": "markdown",
   "metadata": {},
   "source": [
    "### 2.3 Volumetric Brain Measures"
   ]
  },
  {
   "cell_type": "markdown",
   "metadata": {},
   "source": [
    "In this section, we'll look at how volumetric brain measurements from the structural MRIs differ (or not) between the diagnosis categories."
   ]
  },
  {
   "cell_type": "code",
   "execution_count": null,
   "metadata": {},
   "outputs": [],
   "source": []
  },
  {
   "cell_type": "code",
   "execution_count": null,
   "metadata": {},
   "outputs": [],
   "source": []
  },
  {
   "cell_type": "code",
   "execution_count": null,
   "metadata": {},
   "outputs": [],
   "source": []
  },
  {
   "cell_type": "markdown",
   "metadata": {},
   "source": [
    "Next, let's look at the relationship between age and (1) performance on the different cognitive tests and (2) volumetric estimates of different brain regions."
   ]
  },
  {
   "cell_type": "markdown",
   "metadata": {},
   "source": [
    "### 2.2 Characteristics of diagnostic change"
   ]
  },
  {
   "cell_type": "markdown",
   "metadata": {},
   "source": [
    "This section will explore the target variable we're interested in forcasting is the conversion to AD, which is coded by the diagnositic change (DXCHANGE) column in the dataframe. The different categories for this variable are:"
   ]
  },
  {
   "cell_type": "code",
   "execution_count": 34,
   "metadata": {},
   "outputs": [
    {
     "name": "stdout",
     "output_type": "stream",
     "text": [
      "Value 1 represents Stable:NL to NL\n",
      "Value 2 represents Stable:MCI to MCI\n",
      "Value 3 represents Stable:AD to AD\n",
      "Value 4 represents Conv:NL to MCI\n",
      "Value 5 represents Conv:MCI to AD\n",
      "Value 6 represents Conv:NL to AD\n",
      "Value 7 represents Rev:MCI to NL\n",
      "Value 8 represents Rev:AD to MCI\n",
      "Value 9 represents Rev:AD to NL\n",
      "Value -1 represents Not available\n"
     ]
    }
   ],
   "source": [
    "for k,v in vector_dict.dx_change_ids.items():\n",
    "    print(f'Value {k} represents {v}')"
   ]
  },
  {
   "cell_type": "markdown",
   "metadata": {},
   "source": [
    "The two values that we're interested in are 5, the conversion from MCI to AD, and 6, the conversion of cognitively normal to AD. Let's explore some of the characteristics in the dataset associated with these two diagnostic changes."
   ]
  }
 ],
 "metadata": {
  "kernelspec": {
   "display_name": "Python 3",
   "language": "python",
   "name": "python3"
  },
  "language_info": {
   "codemirror_mode": {
    "name": "ipython",
    "version": 3
   },
   "file_extension": ".py",
   "mimetype": "text/x-python",
   "name": "python",
   "nbconvert_exporter": "python",
   "pygments_lexer": "ipython3",
   "version": "3.6.5"
  }
 },
 "nbformat": 4,
 "nbformat_minor": 2
}
