{
 "cells": [
  {
   "cell_type": "markdown",
   "metadata": {},
   "source": [
    "<img src=\"images/mind_tree.jpg\" align=\"center\"/>"
   ]
  },
  {
   "cell_type": "markdown",
   "metadata": {},
   "source": [
    "# A Mind Without Time: Forcasting the Conversion to Alzheimer's Disease"
   ]
  },
  {
   "cell_type": "markdown",
   "metadata": {},
   "source": [
    "This project attempts to forcast the conversion of cognitively normal and persons with Mild Cognitive Impairment (MCI) to a diagnosis of Alzheimer's Disease (AD). Alzheimer's Disease is one of the most prevalent neurodegenerative disorders in North America. In Canada alone, there are 564,000 people diagnosed with dementia, a number that is expected to increase to nearly a million by 2031.Aside from the impact on an individual, dementia places a large burden on the healthcare system and persons involved with an affected individual. Dementia is currently estimated to cost 10.4 billion dollars in yearly expenses within Canada.\n",
    "\n",
    "Early diagnosis of AD is associated with a higher quality of life and a reduced cost on a healthcare system. However, detecting AD early in the disease progression is difficult due to the multifaceted nature of how neurodegeneration affects the brain, cognitive processing, and behavior. Clinical evaluation relies on assessment of a myriad of cognitive tests and biomarkers that are not always identifiable in patients with MCI, a precursor to AD. \n",
    "\n",
    "The multifaceted impact of cognitive impairment and neurodegeneration in MCI and AD suggests that machine learning algorithms such as neural networks may be beneficial in identifying and predicting disease progression. Current studies typically only incorporate one form of data, however, often relying solely on features extracted from structural magnetic resonance imaging (MRI) scans. Other forms of data that show promise in classification with machine learning algorithms include cognitive assessments and the connectivity patterns of resting-state functional networks. This is because spatial and episodic memory, cognitive processes that are typically the first affected in MCI and AD, rely on complex, dynamic interactions of distributed neural networks and are therefore susceptible to the impact of neurodegeneration. Critically, there has yet to be an assessment of how machine learning algorithms perform using features extracted from structural and functional MRI data, as well as cognitive assessments. This project aims to remedy this.\n",
    "\n",
    "**Target audience and use cases:**\n",
    "\n",
    "Healthcare providers. Structural and resting-state functional MRIs are one of easiest and fastest methods of brain imaging. Using them to classify persons at risk or with AD would assist in providing targeted treatments."
   ]
  },
  {
   "cell_type": "code",
   "execution_count": 24,
   "metadata": {},
   "outputs": [],
   "source": [
    "import pandas as pd\n",
    "import matplotlib.pyplot as plt\n",
    "import seaborn as sns\n",
    "import plotly\n",
    "import plotly.plotly as py\n",
    "import plotly.graph_objs as go\n",
    "\n",
    "# python file with metadata\n",
    "import vector_dict\n",
    "\n",
    "%matplotlib inline"
   ]
  },
  {
   "cell_type": "code",
   "execution_count": 25,
   "metadata": {},
   "outputs": [],
   "source": [
    "def plot_dx_multibox(list_of_measures, rows, cols):\n",
    "    # make subplots\n",
    "    fig = plotly.tools.make_subplots(rows=rows, cols=cols, subplot_titles=tuple(list_of_measures), print_grid=False)\n",
    "    row = 1\n",
    "    col = 1\n",
    "    for m in list_of_measures:\n",
    "        trace_cn = go.Box(\n",
    "                          y=df_cn[m],\n",
    "                          name='CN',\n",
    "                          marker = dict(\n",
    "                          color = 'rgb(57, 118, 175)'))\n",
    "\n",
    "        trace_ad = go.Box(\n",
    "                          y=df_ad[m],\n",
    "                          name='AD',\n",
    "                          marker = dict(\n",
    "                          color = 'rgb(240, 133, 54)'))\n",
    "\n",
    "        trace_lm = go.Box(\n",
    "                          y=df_lm[m],\n",
    "                          name='LMCI',\n",
    "                          marker = dict(\n",
    "                          color = 'rgb(80, 157, 62)'))\n",
    "\n",
    "        trace_em = go.Box(\n",
    "                          y=df_em[m],\n",
    "                          name='EMCI',\n",
    "                          marker = dict(\n",
    "                          color = 'rgb(198, 58, 50)'))\n",
    "\n",
    "        trace_sm = go.Box(\n",
    "                          y=df_sm[m],\n",
    "                          name='SMC',\n",
    "                          marker = dict(\n",
    "                          color = 'rgb(142, 106, 184)'))\n",
    "                              \n",
    "        fig.append_trace(trace_cn, row, col)\n",
    "        fig.append_trace(trace_ad, row, col)\n",
    "        fig.append_trace(trace_lm, row, col)\n",
    "        fig.append_trace(trace_em, row, col)\n",
    "        fig.append_trace(trace_sm, row, col)\n",
    "        row += 1\n",
    "        if row > rows and col <= cols:\n",
    "            row = 1\n",
    "            col += 1\n",
    "    fig['layout'].update(showlegend=False)\n",
    "    return py.iplot(fig, filename='mri')"
   ]
  },
  {
   "cell_type": "code",
   "execution_count": 26,
   "metadata": {},
   "outputs": [],
   "source": [
    "# list of measures to drop from analysis based on inspection of the dataset\n",
    "measures_to_drop = []\n",
    "# load cleaned dataframe\n",
    "df = pd.read_csv('df_cleaned.csv', index_col=0)"
   ]
  },
  {
   "cell_type": "markdown",
   "metadata": {},
   "source": [
    "## 2. Exploratory Data Analysis"
   ]
  },
  {
   "cell_type": "markdown",
   "metadata": {},
   "source": [
    "### 2.1 Overview of Patient Characteristics"
   ]
  },
  {
   "cell_type": "markdown",
   "metadata": {},
   "source": [
    "In this first section, we'll look at some of the demographic information available in the dataset and how it relates to the different levels of cognitive function."
   ]
  },
  {
   "cell_type": "code",
   "execution_count": 27,
   "metadata": {},
   "outputs": [
    {
     "data": {
      "text/html": [
       "<iframe id=\"igraph\" scrolling=\"no\" style=\"border:none;\" seamless=\"seamless\" src=\"https://plot.ly/~ilikebrains/70.embed\" height=\"525px\" width=\"100%\"></iframe>"
      ],
      "text/plain": [
       "<plotly.tools.PlotlyDisplay object>"
      ]
     },
     "execution_count": 27,
     "metadata": {},
     "output_type": "execute_result"
    }
   ],
   "source": [
    "# extract entries from baseline\n",
    "df_bl = df[df.viscode == 0].copy()\n",
    "# extract gender series\n",
    "x0 = df_bl.age[df.ptgender == 'Male']\n",
    "x1 = df_bl.age[df.ptgender == 'Female']\n",
    "\n",
    "# plot with plotly\n",
    "trace_m = go.Histogram(\n",
    "    x = x0,\n",
    "    name = 'Male',\n",
    "    marker=dict(\n",
    "                color='rgb(116,159,199)'),\n",
    "    opacity = 0.75)\n",
    "\n",
    "trace_f = go.Histogram(\n",
    "    x = x1,\n",
    "    name = 'Female',\n",
    "    marker=dict(\n",
    "                color='rgb(245,169,114)'),\n",
    "    opacity = 0.75)\n",
    "\n",
    "data = [trace_m, trace_f]\n",
    "\n",
    "layout = go.Layout(\n",
    "    title='Distribution of Age',\n",
    "    xaxis=dict(\n",
    "        title='Age'\n",
    "    ),\n",
    "    yaxis=dict(\n",
    "        title='Count'\n",
    "    ),\n",
    "    bargap=0.2,\n",
    "    bargroupgap=0.1\n",
    ")\n",
    "\n",
    "fig = go.Figure(data=data, layout=layout)\n",
    "py.iplot(fig, filename='age')"
   ]
  },
  {
   "cell_type": "markdown",
   "metadata": {},
   "source": [
    "This distribution shows us that the average age of baseline measurements is around 74 years old. There are also more men than women in the dataset, particularly for patients that are older than the mean age. Importantly though, the distribution looks approximately normal."
   ]
  },
  {
   "cell_type": "code",
   "execution_count": 28,
   "metadata": {},
   "outputs": [],
   "source": [
    "# calculate mean age across sample and gender\n",
    "mean_age = df_bl.age.mean()\n",
    "f_age = df_bl.groupby(\"ptgender\").age.mean()[0]\n",
    "m_age = df_bl.groupby(\"ptgender\").age.mean()[1]\n",
    "\n",
    "# calculate percent male/female\n",
    "n = len(df_bl)\n",
    "f_per = df_bl.groupby(\"ptgender\").age.count()[0]/n*100\n",
    "m_per = df_bl.groupby(\"ptgender\").age.count()[1]/n*100"
   ]
  },
  {
   "cell_type": "code",
   "execution_count": 29,
   "metadata": {},
   "outputs": [
    {
     "data": {
      "text/html": [
       "<iframe id=\"igraph\" scrolling=\"no\" style=\"border:none;\" seamless=\"seamless\" src=\"https://plot.ly/~ilikebrains/72.embed\" height=\"525px\" width=\"100%\"></iframe>"
      ],
      "text/plain": [
       "<plotly.tools.PlotlyDisplay object>"
      ]
     },
     "execution_count": 29,
     "metadata": {},
     "output_type": "execute_result"
    }
   ],
   "source": [
    "# plot with plotly\n",
    "trace1 = go.Bar(\n",
    "                y=['Male', 'Group', 'Female'],\n",
    "                x=[m_age.round(1), mean_age.round(1), f_age.round(1)],\n",
    "                orientation='h',\n",
    "                hoverinfo='x',\n",
    "                marker=dict(\n",
    "                    color=['rgb(116,159,199)', 'rgb(204,204,204)',\n",
    "                    'rgb(245,169,114)']),\n",
    "                opacity = 0.75\n",
    "                )\n",
    "\n",
    "trace2 = go.Bar(\n",
    "                y=['Male', 'Female'],\n",
    "                x=[m_per, f_per],\n",
    "                orientation='h',\n",
    "                hoverinfo='x',\n",
    "                marker=dict(\n",
    "                    color=['rgb(116,159,199)', 'rgb(245,169,114)']),\n",
    "                opacity = 0.75\n",
    "                )\n",
    "\n",
    "# make subplots\n",
    "fig = plotly.tools.make_subplots(cols=2, subplot_titles=('Mean Age', 'Percent of Sample by Gender'), print_grid=False)\n",
    "fig.append_trace(trace1, 1, 1)\n",
    "fig.append_trace(trace2, 1, 2)\n",
    "\n",
    "# update layout\n",
    "fig['layout'].update(showlegend=False)\n",
    "fig['layout']['xaxis1'].update(range=[70,75])\n",
    "py.iplot(fig, filename='gender')"
   ]
  },
  {
   "cell_type": "markdown",
   "metadata": {},
   "source": [
    "Next, let's break down the sample by diagnosis at baseline, then explore some of the relationships between our predictor and demographic variables."
   ]
  },
  {
   "cell_type": "code",
   "execution_count": 30,
   "metadata": {},
   "outputs": [
    {
     "data": {
      "text/plain": [
       "array(['CN', 'AD', 'LMCI', 'EMCI', 'SMC'], dtype=object)"
      ]
     },
     "execution_count": 30,
     "metadata": {},
     "output_type": "execute_result"
    }
   ],
   "source": [
    "df_bl.dx_bl.unique()"
   ]
  },
  {
   "cell_type": "markdown",
   "metadata": {},
   "source": [
    "The diagnoses at baseline are coded above. Here are what they represent:\n",
    "\n",
    "* CN = cognitively normal\n",
    "* AD = Alzheimer's Disease\n",
    "* LMCI = late or amnestic mild cognitive impairment\n",
    "* EMCI = early mild cognitive impairment\n",
    "* SMC = significant memory concern\n",
    "\n",
    "A full breakdown of the inclusion criteria for the different diagnoses can be found [here](https://clinicaltrials.gov/ct2/show/NCT01231971). Briefly, significant memory concern patients are self reporters who are not showing memory impairments on clinical assessments but who report trouble with their memory. They have to be otherwise cognitively normal. Early MCI is characterized as the mildest symptomatic form of MCI and AD, while late MCI is characterized as having more pronounced amnesia. Let's now look at some of the characteristics of patients with the different baseline diagnoses."
   ]
  },
  {
   "cell_type": "code",
   "execution_count": 31,
   "metadata": {},
   "outputs": [],
   "source": [
    "# subset dataframes for plotting\n",
    "df_cn = df_bl[df_bl['dx_bl'] == 'CN']\n",
    "df_ad = df_bl[df_bl['dx_bl'] == 'AD']\n",
    "df_lm = df_bl[df_bl['dx_bl'] == 'LMCI']\n",
    "df_em = df_bl[df_bl['dx_bl'] == 'EMCI']\n",
    "df_sm = df_bl[df_bl['dx_bl'] == 'SMC']"
   ]
  },
  {
   "cell_type": "code",
   "execution_count": 32,
   "metadata": {},
   "outputs": [],
   "source": [
    "def plot_dx(v):\n",
    "    \"\"\"This method takes a variable name as an input and generates a series of\n",
    "       of box plots using plotly for each diagnosis category.\"\"\"\n",
    "    \n",
    "    trace_cn = go.Box(\n",
    "                      y=df_cn[v],\n",
    "                      name='CN')\n",
    "\n",
    "    trace_ad = go.Box(\n",
    "                      y=df_ad[v],\n",
    "                      name='AD')\n",
    "\n",
    "    trace_lm = go.Box(\n",
    "                      y=df_lm[v],\n",
    "                      name='LMCI')\n",
    "\n",
    "    trace_em = go.Box(\n",
    "                      y=df_em[v],\n",
    "                      name='EMCI')\n",
    "\n",
    "    trace_sm = go.Box(\n",
    "                      y=df_sm[v],\n",
    "                      name='SMC')\n",
    "    \n",
    "    layout= go.Layout(\n",
    "                      title = '{} by Baseline Diagnosis'.format(v.capitalize()))\n",
    "    # link traces\n",
    "    data = [trace_cn, trace_ad, trace_lm, trace_em, trace_sm]\n",
    "    # link data and layout\n",
    "    fig = go.Figure(data=data, layout=layout)\n",
    "    # generate plot\n",
    "    return py.iplot(fig, filename=v)"
   ]
  },
  {
   "cell_type": "code",
   "execution_count": 33,
   "metadata": {},
   "outputs": [
    {
     "data": {
      "text/html": [
       "<iframe id=\"igraph\" scrolling=\"no\" style=\"border:none;\" seamless=\"seamless\" src=\"https://plot.ly/~ilikebrains/70.embed\" height=\"525px\" width=\"100%\"></iframe>"
      ],
      "text/plain": [
       "<plotly.tools.PlotlyDisplay object>"
      ]
     },
     "execution_count": 33,
     "metadata": {},
     "output_type": "execute_result"
    }
   ],
   "source": [
    "# plot age by diagnosis category\n",
    "plot_dx('age')"
   ]
  },
  {
   "cell_type": "markdown",
   "metadata": {},
   "source": [
    "Overall, the range of ages between the different diagnosis types looks similar. Importantly, the variance of cognitively normal individuals appears to match that of the other categories. Next, let's look at how the different groups perform on the cognitive tests."
   ]
  },
  {
   "cell_type": "markdown",
   "metadata": {},
   "source": [
    "### 2.2 Performance on Cognitive Assessments"
   ]
  },
  {
   "cell_type": "code",
   "execution_count": 34,
   "metadata": {},
   "outputs": [
    {
     "name": "stdout",
     "output_type": "stream",
     "text": [
      "The cognitive assessments that will be looked at are ['cdrsb_bl', 'adas13_bl', 'mmse_bl', 'moca_bl']\n"
     ]
    }
   ],
   "source": [
    "# create list of baseline cognitive assessments\n",
    "tests = [t.lower() for t in vector_dict.metadata['cognitive_tests'] if 'bl' in t]\n",
    "# dispaly list\n",
    "print(f'The cognitive assessments that will be looked at are {tests}')"
   ]
  },
  {
   "cell_type": "code",
   "execution_count": 35,
   "metadata": {},
   "outputs": [
    {
     "data": {
      "text/html": [
       "<iframe id=\"igraph\" scrolling=\"no\" style=\"border:none;\" seamless=\"seamless\" src=\"https://plot.ly/~ilikebrains/74.embed\" height=\"525px\" width=\"100%\"></iframe>"
      ],
      "text/plain": [
       "<plotly.tools.PlotlyDisplay object>"
      ]
     },
     "execution_count": 35,
     "metadata": {},
     "output_type": "execute_result"
    }
   ],
   "source": [
    "plot_dx(tests[0])"
   ]
  },
  {
   "cell_type": "markdown",
   "metadata": {},
   "source": [
    "As we would expect, the scores on the CDRSB are almost zero for the CN and SMC groups. There are much higher ratings for AD, and interestingly there is only a small difference between early and late MCI."
   ]
  },
  {
   "cell_type": "code",
   "execution_count": 36,
   "metadata": {},
   "outputs": [
    {
     "data": {
      "text/html": [
       "<iframe id=\"igraph\" scrolling=\"no\" style=\"border:none;\" seamless=\"seamless\" src=\"https://plot.ly/~ilikebrains/76.embed\" height=\"525px\" width=\"100%\"></iframe>"
      ],
      "text/plain": [
       "<plotly.tools.PlotlyDisplay object>"
      ]
     },
     "execution_count": 36,
     "metadata": {},
     "output_type": "execute_result"
    }
   ],
   "source": [
    "# plot ADAS13\n",
    "plot_dx(tests[1])"
   ]
  },
  {
   "cell_type": "markdown",
   "metadata": {},
   "source": [
    "We can see a similar trend with the ADAS13, although the differences between early and late MCI appear more pronounced."
   ]
  },
  {
   "cell_type": "code",
   "execution_count": 37,
   "metadata": {},
   "outputs": [
    {
     "data": {
      "text/html": [
       "<iframe id=\"igraph\" scrolling=\"no\" style=\"border:none;\" seamless=\"seamless\" src=\"https://plot.ly/~ilikebrains/78.embed\" height=\"525px\" width=\"100%\"></iframe>"
      ],
      "text/plain": [
       "<plotly.tools.PlotlyDisplay object>"
      ]
     },
     "execution_count": 37,
     "metadata": {},
     "output_type": "execute_result"
    }
   ],
   "source": [
    "# plot MMSE\n",
    "plot_dx(tests[2])"
   ]
  },
  {
   "cell_type": "markdown",
   "metadata": {},
   "source": [
    "Here, the scale is inversed with lower score representing more cognitive impairment. Considering this, the overall trend between groups looks similar, although there are more outliers in the CN and SMC groups indicating that the MMSE may not be as good a metric for classification of AD."
   ]
  },
  {
   "cell_type": "code",
   "execution_count": 38,
   "metadata": {},
   "outputs": [
    {
     "data": {
      "text/html": [
       "<iframe id=\"igraph\" scrolling=\"no\" style=\"border:none;\" seamless=\"seamless\" src=\"https://plot.ly/~ilikebrains/80.embed\" height=\"525px\" width=\"100%\"></iframe>"
      ],
      "text/plain": [
       "<plotly.tools.PlotlyDisplay object>"
      ]
     },
     "execution_count": 38,
     "metadata": {},
     "output_type": "execute_result"
    }
   ],
   "source": [
    "# plot MOCA\n",
    "plot_dx(tests[3])"
   ]
  },
  {
   "cell_type": "markdown",
   "metadata": {},
   "source": [
    "Again, we can see the same overall trend. However, given that the MOCA was only conducted for ~50% of the sample, it may be worth building a model without it since it doesn't appear to differentiate the groups any more than the other assessments."
   ]
  },
  {
   "cell_type": "code",
   "execution_count": 39,
   "metadata": {},
   "outputs": [],
   "source": [
    "measures_to_drop.append('MOCA')"
   ]
  },
  {
   "cell_type": "markdown",
   "metadata": {},
   "source": [
    "Next, let's look at the correlations between performamce on the different cognitive assessments. It is important to avoid highly correlated measures as features due to overfitting the model and the matrices will be important when we do some feature engineering."
   ]
  },
  {
   "cell_type": "code",
   "execution_count": 40,
   "metadata": {},
   "outputs": [],
   "source": [
    "from IPython.display import display_html\n",
    "def display_side_by_side(*args):\n",
    "    html_str=''\n",
    "    for df in args:\n",
    "        html_str+=df.to_html()\n",
    "    display_html(html_str.replace('table','table style=\"display:inline\"'),raw=True)"
   ]
  },
  {
   "cell_type": "code",
   "execution_count": 41,
   "metadata": {},
   "outputs": [
    {
     "data": {
      "text/html": [
       "<table style=\"display:inline\" border=\"1\" class=\"dataframe\">\n",
       "  <thead>\n",
       "    <tr style=\"text-align: right;\">\n",
       "      <th></th>\n",
       "      <th>age</th>\n",
       "      <th>cdrsb_bl</th>\n",
       "      <th>adas13_bl</th>\n",
       "      <th>mmse_bl</th>\n",
       "      <th>moca_bl</th>\n",
       "    </tr>\n",
       "  </thead>\n",
       "  <tbody>\n",
       "    <tr>\n",
       "      <th>age</th>\n",
       "      <td>1.000000</td>\n",
       "      <td>0.059861</td>\n",
       "      <td>0.139857</td>\n",
       "      <td>-0.132319</td>\n",
       "      <td>-0.187296</td>\n",
       "    </tr>\n",
       "    <tr>\n",
       "      <th>cdrsb_bl</th>\n",
       "      <td>0.059861</td>\n",
       "      <td>1.000000</td>\n",
       "      <td>0.743807</td>\n",
       "      <td>-0.719020</td>\n",
       "      <td>-0.673245</td>\n",
       "    </tr>\n",
       "    <tr>\n",
       "      <th>adas13_bl</th>\n",
       "      <td>0.139857</td>\n",
       "      <td>0.743807</td>\n",
       "      <td>1.000000</td>\n",
       "      <td>-0.741212</td>\n",
       "      <td>-0.784323</td>\n",
       "    </tr>\n",
       "    <tr>\n",
       "      <th>mmse_bl</th>\n",
       "      <td>-0.132319</td>\n",
       "      <td>-0.719020</td>\n",
       "      <td>-0.741212</td>\n",
       "      <td>1.000000</td>\n",
       "      <td>0.707536</td>\n",
       "    </tr>\n",
       "    <tr>\n",
       "      <th>moca_bl</th>\n",
       "      <td>-0.187296</td>\n",
       "      <td>-0.673245</td>\n",
       "      <td>-0.784323</td>\n",
       "      <td>0.707536</td>\n",
       "      <td>1.000000</td>\n",
       "    </tr>\n",
       "  </tbody>\n",
       "</table style=\"display:inline\"><table style=\"display:inline\" border=\"1\" class=\"dataframe\">\n",
       "  <thead>\n",
       "    <tr style=\"text-align: right;\">\n",
       "      <th></th>\n",
       "      <th>age</th>\n",
       "      <th>cdrsb_bl</th>\n",
       "      <th>adas13_bl</th>\n",
       "      <th>mmse_bl</th>\n",
       "      <th>moca_bl</th>\n",
       "    </tr>\n",
       "  </thead>\n",
       "  <tbody>\n",
       "    <tr>\n",
       "      <th>age</th>\n",
       "      <td>1.000000</td>\n",
       "      <td>0.117062</td>\n",
       "      <td>0.229192</td>\n",
       "      <td>-0.069383</td>\n",
       "      <td>-0.343349</td>\n",
       "    </tr>\n",
       "    <tr>\n",
       "      <th>cdrsb_bl</th>\n",
       "      <td>0.117062</td>\n",
       "      <td>1.000000</td>\n",
       "      <td>0.083382</td>\n",
       "      <td>0.019856</td>\n",
       "      <td>-0.034113</td>\n",
       "    </tr>\n",
       "    <tr>\n",
       "      <th>adas13_bl</th>\n",
       "      <td>0.229192</td>\n",
       "      <td>0.083382</td>\n",
       "      <td>1.000000</td>\n",
       "      <td>-0.170663</td>\n",
       "      <td>-0.430711</td>\n",
       "    </tr>\n",
       "    <tr>\n",
       "      <th>mmse_bl</th>\n",
       "      <td>-0.069383</td>\n",
       "      <td>0.019856</td>\n",
       "      <td>-0.170663</td>\n",
       "      <td>1.000000</td>\n",
       "      <td>0.226774</td>\n",
       "    </tr>\n",
       "    <tr>\n",
       "      <th>moca_bl</th>\n",
       "      <td>-0.343349</td>\n",
       "      <td>-0.034113</td>\n",
       "      <td>-0.430711</td>\n",
       "      <td>0.226774</td>\n",
       "      <td>1.000000</td>\n",
       "    </tr>\n",
       "  </tbody>\n",
       "</table style=\"display:inline\"><table style=\"display:inline\" border=\"1\" class=\"dataframe\">\n",
       "  <thead>\n",
       "    <tr style=\"text-align: right;\">\n",
       "      <th></th>\n",
       "      <th>age</th>\n",
       "      <th>cdrsb_bl</th>\n",
       "      <th>adas13_bl</th>\n",
       "      <th>mmse_bl</th>\n",
       "      <th>moca_bl</th>\n",
       "    </tr>\n",
       "  </thead>\n",
       "  <tbody>\n",
       "    <tr>\n",
       "      <th>age</th>\n",
       "      <td>1.000000</td>\n",
       "      <td>0.081323</td>\n",
       "      <td>-0.018548</td>\n",
       "      <td>-0.050178</td>\n",
       "      <td>-0.030545</td>\n",
       "    </tr>\n",
       "    <tr>\n",
       "      <th>cdrsb_bl</th>\n",
       "      <td>0.081323</td>\n",
       "      <td>1.000000</td>\n",
       "      <td>0.449607</td>\n",
       "      <td>-0.298250</td>\n",
       "      <td>-0.396443</td>\n",
       "    </tr>\n",
       "    <tr>\n",
       "      <th>adas13_bl</th>\n",
       "      <td>-0.018548</td>\n",
       "      <td>0.449607</td>\n",
       "      <td>1.000000</td>\n",
       "      <td>-0.446169</td>\n",
       "      <td>-0.726418</td>\n",
       "    </tr>\n",
       "    <tr>\n",
       "      <th>mmse_bl</th>\n",
       "      <td>-0.050178</td>\n",
       "      <td>-0.298250</td>\n",
       "      <td>-0.446169</td>\n",
       "      <td>1.000000</td>\n",
       "      <td>0.541724</td>\n",
       "    </tr>\n",
       "    <tr>\n",
       "      <th>moca_bl</th>\n",
       "      <td>-0.030545</td>\n",
       "      <td>-0.396443</td>\n",
       "      <td>-0.726418</td>\n",
       "      <td>0.541724</td>\n",
       "      <td>1.000000</td>\n",
       "    </tr>\n",
       "  </tbody>\n",
       "</table style=\"display:inline\">"
      ]
     },
     "metadata": {},
     "output_type": "display_data"
    }
   ],
   "source": [
    "# add age to test list for correlations\n",
    "tests.insert(0, 'age')\n",
    "# display correlation matrices for sample, CN, and AD\n",
    "display_side_by_side(df_bl[tests].corr(), \n",
    "                     df_cn[tests].corr(),\n",
    "                     df_ad[tests].corr())"
   ]
  },
  {
   "cell_type": "code",
   "execution_count": 42,
   "metadata": {},
   "outputs": [
    {
     "data": {
      "text/html": [
       "<table style=\"display:inline\" border=\"1\" class=\"dataframe\">\n",
       "  <thead>\n",
       "    <tr style=\"text-align: right;\">\n",
       "      <th></th>\n",
       "      <th>age</th>\n",
       "      <th>cdrsb_bl</th>\n",
       "      <th>adas13_bl</th>\n",
       "      <th>mmse_bl</th>\n",
       "      <th>moca_bl</th>\n",
       "    </tr>\n",
       "  </thead>\n",
       "  <tbody>\n",
       "    <tr>\n",
       "      <th>age</th>\n",
       "      <td>1.000000</td>\n",
       "      <td>0.120102</td>\n",
       "      <td>0.232009</td>\n",
       "      <td>-0.092579</td>\n",
       "      <td>-0.179436</td>\n",
       "    </tr>\n",
       "    <tr>\n",
       "      <th>cdrsb_bl</th>\n",
       "      <td>0.120102</td>\n",
       "      <td>1.000000</td>\n",
       "      <td>-0.022905</td>\n",
       "      <td>-0.098121</td>\n",
       "      <td>-0.224284</td>\n",
       "    </tr>\n",
       "    <tr>\n",
       "      <th>adas13_bl</th>\n",
       "      <td>0.232009</td>\n",
       "      <td>-0.022905</td>\n",
       "      <td>1.000000</td>\n",
       "      <td>-0.123475</td>\n",
       "      <td>-0.423262</td>\n",
       "    </tr>\n",
       "    <tr>\n",
       "      <th>mmse_bl</th>\n",
       "      <td>-0.092579</td>\n",
       "      <td>-0.098121</td>\n",
       "      <td>-0.123475</td>\n",
       "      <td>1.000000</td>\n",
       "      <td>0.329693</td>\n",
       "    </tr>\n",
       "    <tr>\n",
       "      <th>moca_bl</th>\n",
       "      <td>-0.179436</td>\n",
       "      <td>-0.224284</td>\n",
       "      <td>-0.423262</td>\n",
       "      <td>0.329693</td>\n",
       "      <td>1.000000</td>\n",
       "    </tr>\n",
       "  </tbody>\n",
       "</table style=\"display:inline\"><table style=\"display:inline\" border=\"1\" class=\"dataframe\">\n",
       "  <thead>\n",
       "    <tr style=\"text-align: right;\">\n",
       "      <th></th>\n",
       "      <th>age</th>\n",
       "      <th>cdrsb_bl</th>\n",
       "      <th>adas13_bl</th>\n",
       "      <th>mmse_bl</th>\n",
       "      <th>moca_bl</th>\n",
       "    </tr>\n",
       "  </thead>\n",
       "  <tbody>\n",
       "    <tr>\n",
       "      <th>age</th>\n",
       "      <td>1.000000</td>\n",
       "      <td>0.028404</td>\n",
       "      <td>0.355035</td>\n",
       "      <td>-0.272018</td>\n",
       "      <td>-0.281299</td>\n",
       "    </tr>\n",
       "    <tr>\n",
       "      <th>cdrsb_bl</th>\n",
       "      <td>0.028404</td>\n",
       "      <td>1.000000</td>\n",
       "      <td>0.154609</td>\n",
       "      <td>-0.111594</td>\n",
       "      <td>-0.212626</td>\n",
       "    </tr>\n",
       "    <tr>\n",
       "      <th>adas13_bl</th>\n",
       "      <td>0.355035</td>\n",
       "      <td>0.154609</td>\n",
       "      <td>1.000000</td>\n",
       "      <td>-0.362637</td>\n",
       "      <td>-0.472468</td>\n",
       "    </tr>\n",
       "    <tr>\n",
       "      <th>mmse_bl</th>\n",
       "      <td>-0.272018</td>\n",
       "      <td>-0.111594</td>\n",
       "      <td>-0.362637</td>\n",
       "      <td>1.000000</td>\n",
       "      <td>0.319844</td>\n",
       "    </tr>\n",
       "    <tr>\n",
       "      <th>moca_bl</th>\n",
       "      <td>-0.281299</td>\n",
       "      <td>-0.212626</td>\n",
       "      <td>-0.472468</td>\n",
       "      <td>0.319844</td>\n",
       "      <td>1.000000</td>\n",
       "    </tr>\n",
       "  </tbody>\n",
       "</table style=\"display:inline\"><table style=\"display:inline\" border=\"1\" class=\"dataframe\">\n",
       "  <thead>\n",
       "    <tr style=\"text-align: right;\">\n",
       "      <th></th>\n",
       "      <th>age</th>\n",
       "      <th>cdrsb_bl</th>\n",
       "      <th>adas13_bl</th>\n",
       "      <th>mmse_bl</th>\n",
       "      <th>moca_bl</th>\n",
       "    </tr>\n",
       "  </thead>\n",
       "  <tbody>\n",
       "    <tr>\n",
       "      <th>age</th>\n",
       "      <td>1.000000</td>\n",
       "      <td>-0.019251</td>\n",
       "      <td>0.102015</td>\n",
       "      <td>-0.115877</td>\n",
       "      <td>-0.140551</td>\n",
       "    </tr>\n",
       "    <tr>\n",
       "      <th>cdrsb_bl</th>\n",
       "      <td>-0.019251</td>\n",
       "      <td>1.000000</td>\n",
       "      <td>0.278052</td>\n",
       "      <td>-0.177689</td>\n",
       "      <td>-0.210040</td>\n",
       "    </tr>\n",
       "    <tr>\n",
       "      <th>adas13_bl</th>\n",
       "      <td>0.102015</td>\n",
       "      <td>0.278052</td>\n",
       "      <td>1.000000</td>\n",
       "      <td>-0.390636</td>\n",
       "      <td>-0.581511</td>\n",
       "    </tr>\n",
       "    <tr>\n",
       "      <th>mmse_bl</th>\n",
       "      <td>-0.115877</td>\n",
       "      <td>-0.177689</td>\n",
       "      <td>-0.390636</td>\n",
       "      <td>1.000000</td>\n",
       "      <td>0.518924</td>\n",
       "    </tr>\n",
       "    <tr>\n",
       "      <th>moca_bl</th>\n",
       "      <td>-0.140551</td>\n",
       "      <td>-0.210040</td>\n",
       "      <td>-0.581511</td>\n",
       "      <td>0.518924</td>\n",
       "      <td>1.000000</td>\n",
       "    </tr>\n",
       "  </tbody>\n",
       "</table style=\"display:inline\">"
      ]
     },
     "metadata": {},
     "output_type": "display_data"
    }
   ],
   "source": [
    "# display correlation matrices for sample, CN, and AD\n",
    "display_side_by_side(df_sm[tests].corr(), \n",
    "                     df_em[tests].corr(),\n",
    "                     df_lm[tests].corr())"
   ]
  },
  {
   "cell_type": "code",
   "execution_count": 43,
   "metadata": {},
   "outputs": [
    {
     "data": {
      "text/html": [
       "<iframe id=\"igraph\" scrolling=\"no\" style=\"border:none;\" seamless=\"seamless\" src=\"https://plot.ly/~ilikebrains/82.embed\" height=\"525px\" width=\"100%\"></iframe>"
      ],
      "text/plain": [
       "<plotly.tools.PlotlyDisplay object>"
      ]
     },
     "execution_count": 43,
     "metadata": {},
     "output_type": "execute_result"
    }
   ],
   "source": [
    "trace_cn = go.Heatmap(\n",
    "                      z=df_cn[tests].corr().values.tolist()[::-1],\n",
    "                      x=tests,\n",
    "                      y=tests[::-1],\n",
    "                      hoverinfo='x+y+z')\n",
    "\n",
    "trace_bl = go.Heatmap(\n",
    "                      z=df_bl[tests].corr().values.tolist()[::-1],\n",
    "                      x=tests,\n",
    "                      y=tests[::-1],\n",
    "                      showscale=False,\n",
    "                      hoverinfo='x+y+z')\n",
    "\n",
    "trace_ad = go.Heatmap(\n",
    "                      z=df_ad[tests].corr().values.tolist()[::-1],\n",
    "                      x=tests,\n",
    "                      y=tests[::-1],\n",
    "                      showscale=False,\n",
    "                      hoverinfo='x+y+z')\n",
    "\n",
    "trace_sm = go.Heatmap(\n",
    "                      z=df_sm[tests].corr().values.tolist()[::-1],\n",
    "                      x=tests,\n",
    "                      y=tests[::-1],\n",
    "                      showscale=False,\n",
    "                      hoverinfo='x+y+z')\n",
    "\n",
    "trace_em = go.Heatmap(\n",
    "                      z=df_em[tests].corr().values.tolist()[::-1],\n",
    "                      x=tests,\n",
    "                      y=tests[::-1],\n",
    "                      showscale=False,\n",
    "                      hoverinfo='x+y+z')\n",
    "\n",
    "trace_lm = go.Heatmap(\n",
    "                      z=df_lm[tests].corr().values.tolist()[::-1],\n",
    "                      x=tests,\n",
    "                      y=tests[::-1],\n",
    "                      showscale=False,\n",
    "                      hoverinfo='x+y+z')\n",
    "\n",
    "# make subplots\n",
    "fig = plotly.tools.make_subplots(rows=2, cols=3, subplot_titles=('Baseline', 'CN', 'AD', 'SMC', 'EMCI', 'LMCI'), print_grid=False)\n",
    "fig.append_trace(trace_bl, 1, 1)\n",
    "fig.append_trace(trace_cn, 1, 2)\n",
    "fig.append_trace(trace_ad, 1, 3)\n",
    "fig.append_trace(trace_sm, 2, 1)\n",
    "fig.append_trace(trace_em, 2, 2)\n",
    "fig.append_trace(trace_lm, 2, 3)\n",
    "\n",
    "fig['layout'].update(showlegend=False)\n",
    "py.iplot(fig, filename='correlation')"
   ]
  },
  {
   "cell_type": "markdown",
   "metadata": {},
   "source": [
    "There are two primary points to note in these heatmaps:\n",
    "\n",
    "1. The measures overall are not strongly correlated, except in the case of AD and late MCI. In AD, the CDRSB and the ADAS13 become strongly correlated. This is interesting and may be useful in modeling in that we may consider using the correlation values between these two tests as a feature itself. This correlation is there in late MCI as well, although it is not as strong. \n",
    "\n",
    "2. The MOCA has a fairly strong correlation with the MMSE and a negative correltion with the ADAS13. Since we will run an initial model without the MOCA, we can leave this for now."
   ]
  },
  {
   "cell_type": "markdown",
   "metadata": {},
   "source": [
    "### 2.3 Volumetric Brain Measures"
   ]
  },
  {
   "cell_type": "markdown",
   "metadata": {},
   "source": [
    "In this section, we'll look at how volumetric brain measurements from the structural MRIs differ (or not) between the diagnosis categories. The measurements in the dataset are either cross sectional (denoted with an x) or longitudinal (denoted with an l). Cross sectional data points are generated by segmenting a patient's scan using a common template. This provides a volumetric estimate of brain regions that can then be compared between groups, as the segmentation is relative to a constant across all patients. The longitudinal data is done within subject, meaning that a template is generated for each patient and changes in brain morphology are calculated relative to that template. This provides a more reliable estimate of how an individual's brain changes over time, but is more time intensive to generate, which is why there is less of these done in the dataset. \n",
    "\n",
    "Also, it is generally thought that the larger a brain structure is, the better it is able to perform the cognitive functions associated with it. There are caveats to this, in that the volume of a brain region needs to be normalized by the volume of the whole brain (some people just have bigger brains), and that there are upper bounds to the volume = skill relationship. For the hippocampus, however, there are studies showing that larger hippomcampi results in better memory performance. For example, see the following publication.\n",
    "\n",
    "Bohbot, V. D., Lerch, J., Thorndycraft, B., Iaria, G., & Zijdenbos, A. P. (2007). Gray Matter Differences Correlate with Spontaneous Strategies in a Human Virtual Navigation Task. Journal of Neuroscience, 27(38), 10078–10083. http://doi.org/10.1523/JNEUROSCI.1763-07.2007\n",
    "\n",
    "For now, we'll look at the baseline averages for the ventricles, the whole brain, and intracranial volumne (ICV), as well as the longitudinal data for the hippocampus and entorhinal cortex."
   ]
  },
  {
   "cell_type": "code",
   "execution_count": 44,
   "metadata": {},
   "outputs": [
    {
     "data": {
      "text/plain": [
       "['Ventricles_bl',\n",
       " 'WholeBrain_bl',\n",
       " 'ICV_bl',\n",
       " 'l_hippocampus_l',\n",
       " 'l_hippocampus_r',\n",
       " 'x_hippocampus_l',\n",
       " 'x_hippocampus_r',\n",
       " 'l_entorhinal_l',\n",
       " 'l_entorhinal_r',\n",
       " 'l_entorhinal_l_thick',\n",
       " 'l_entorhinal_r_thick',\n",
       " 'x_entorhinal_l',\n",
       " 'x_entorhinal_r',\n",
       " 'x_entorhinal_l_thick',\n",
       " 'x_entorhinal_r_thick']"
      ]
     },
     "execution_count": 44,
     "metadata": {},
     "output_type": "execute_result"
    }
   ],
   "source": [
    "vector_dict.metadata['MRI']"
   ]
  },
  {
   "cell_type": "code",
   "execution_count": 45,
   "metadata": {},
   "outputs": [
    {
     "name": "stdout",
     "output_type": "stream",
     "text": [
      "['ventricles_bl', 'wholebrain_bl', 'icv_bl', 'l_hippocampus_l', 'l_hippocampus_r', 'l_entorhinal_l', 'l_entorhinal_r', 'l_entorhinal_l_thick', 'l_entorhinal_r_thick']\n"
     ]
    }
   ],
   "source": [
    "# create list of brain measures\n",
    "s_mri = [m.lower() for m in vector_dict.metadata['MRI'] if 'x_' not in m]\n",
    "# display  list\n",
    "print(s_mri)"
   ]
  },
  {
   "cell_type": "code",
   "execution_count": 46,
   "metadata": {},
   "outputs": [
    {
     "data": {
      "text/html": [
       "<iframe id=\"igraph\" scrolling=\"no\" style=\"border:none;\" seamless=\"seamless\" src=\"https://plot.ly/~ilikebrains/84.embed\" height=\"525px\" width=\"100%\"></iframe>"
      ],
      "text/plain": [
       "<plotly.tools.PlotlyDisplay object>"
      ]
     },
     "execution_count": 46,
     "metadata": {},
     "output_type": "execute_result"
    }
   ],
   "source": [
    "# plot ventricles\n",
    "plot_dx('ventricles_bl')"
   ]
  },
  {
   "cell_type": "markdown",
   "metadata": {},
   "source": [
    "Overall, the volumne of ventricles appear to increase with cogntiive impairment. The CN and SMC groups largely have the same range of volumnes, and these increase with more severe impairment."
   ]
  },
  {
   "cell_type": "code",
   "execution_count": 47,
   "metadata": {},
   "outputs": [
    {
     "data": {
      "text/html": [
       "<iframe id=\"igraph\" scrolling=\"no\" style=\"border:none;\" seamless=\"seamless\" src=\"https://plot.ly/~ilikebrains/86.embed\" height=\"525px\" width=\"100%\"></iframe>"
      ],
      "text/plain": [
       "<plotly.tools.PlotlyDisplay object>"
      ]
     },
     "execution_count": 47,
     "metadata": {},
     "output_type": "execute_result"
    }
   ],
   "source": [
    "# plot whole brain\n",
    "plot_dx('wholebrain_bl')"
   ]
  },
  {
   "cell_type": "markdown",
   "metadata": {},
   "source": [
    "The data here are not as straight forward. This may be because some estimates in AD are increasing in volume, such as the ventricles, while other areas are decreasing. Let's continue looking at the volumetric estimates and make a note that this measure may not be useful as a feature in the model."
   ]
  },
  {
   "cell_type": "code",
   "execution_count": 48,
   "metadata": {},
   "outputs": [
    {
     "data": {
      "text/html": [
       "<iframe id=\"igraph\" scrolling=\"no\" style=\"border:none;\" seamless=\"seamless\" src=\"https://plot.ly/~ilikebrains/88.embed\" height=\"525px\" width=\"100%\"></iframe>"
      ],
      "text/plain": [
       "<plotly.tools.PlotlyDisplay object>"
      ]
     },
     "execution_count": 48,
     "metadata": {},
     "output_type": "execute_result"
    }
   ],
   "source": [
    "# plot intracranial volumne\n",
    "plot_dx('icv_bl')"
   ]
  },
  {
   "cell_type": "markdown",
   "metadata": {},
   "source": [
    "Similar to the whole brain, intracranial volumne doesn't appear to successfully differentiate the groups."
   ]
  },
  {
   "cell_type": "code",
   "execution_count": 49,
   "metadata": {},
   "outputs": [
    {
     "data": {
      "text/html": [
       "<iframe id=\"igraph\" scrolling=\"no\" style=\"border:none;\" seamless=\"seamless\" src=\"https://plot.ly/~ilikebrains/90.embed\" height=\"525px\" width=\"100%\"></iframe>"
      ],
      "text/plain": [
       "<plotly.tools.PlotlyDisplay object>"
      ]
     },
     "execution_count": 49,
     "metadata": {},
     "output_type": "execute_result"
    }
   ],
   "source": [
    "# plot hippocampus\n",
    "plot_dx_multibox(s_mri[3:5], 1, 2)"
   ]
  },
  {
   "cell_type": "markdown",
   "metadata": {},
   "source": [
    "The overall pattern here is what we would expect. AD is neurodegenerative, in that there is atrophy in brain regions, especially those like the hippocampus that are critical for memory. Lower volumetric estimates indicate the brain region is smaller. In both the left and right hippocampus, we can see that there is a decrease of volume with increasing cognitive impairment. Interestingly though, the SMC group has larger hippocampi than the CN group, although the difference likely isn't statistically significant."
   ]
  },
  {
   "cell_type": "code",
   "execution_count": 50,
   "metadata": {},
   "outputs": [
    {
     "data": {
      "text/html": [
       "<iframe id=\"igraph\" scrolling=\"no\" style=\"border:none;\" seamless=\"seamless\" src=\"https://plot.ly/~ilikebrains/90.embed\" height=\"525px\" width=\"100%\"></iframe>"
      ],
      "text/plain": [
       "<plotly.tools.PlotlyDisplay object>"
      ]
     },
     "execution_count": 50,
     "metadata": {},
     "output_type": "execute_result"
    }
   ],
   "source": [
    "# plot entorhinal cortex\n",
    "plot_dx_multibox(s_mri[5:7], 1, 2)"
   ]
  },
  {
   "cell_type": "markdown",
   "metadata": {},
   "source": [
    "Similar to the hippocampus, we can see that the volume of the entorhinal cortex appears to relate to cognitive impairment. Lastly, let's look the cortical thickness of the entorhinal cortex."
   ]
  },
  {
   "cell_type": "code",
   "execution_count": 51,
   "metadata": {},
   "outputs": [
    {
     "data": {
      "text/html": [
       "<iframe id=\"igraph\" scrolling=\"no\" style=\"border:none;\" seamless=\"seamless\" src=\"https://plot.ly/~ilikebrains/90.embed\" height=\"525px\" width=\"100%\"></iframe>"
      ],
      "text/plain": [
       "<plotly.tools.PlotlyDisplay object>"
      ]
     },
     "execution_count": 51,
     "metadata": {},
     "output_type": "execute_result"
    }
   ],
   "source": [
    "# plot entorhinal cortex thickness\n",
    "plot_dx_multibox(s_mri[7:], 1, 2)"
   ]
  },
  {
   "cell_type": "markdown",
   "metadata": {},
   "source": [
    "These estimates resemble the volumetric ones, except that there appears to be more outliers with lower thickness values in the CN and EMCI group. It may be that individuals with lower thickness values in the entorhinal cortex is associated with a higher rate of converting to AD. We'll evaluate this in section 3 where we look at the characteristics of patients that have a diagnositic change."
   ]
  },
  {
   "cell_type": "markdown",
   "metadata": {},
   "source": [
    "### 2.4 Ecog Measures"
   ]
  },
  {
   "cell_type": "markdown",
   "metadata": {},
   "source": [
    "Now we'll look at some of the measures that we'll use in reduced models. These will be reduced models since the measures were only collected for a smaller subset of the total sample. The first one we'll look at is electroencephalography (Ecog) where measures were recorded while patients underwent a memory or visual spatial task."
   ]
  },
  {
   "cell_type": "code",
   "execution_count": 52,
   "metadata": {},
   "outputs": [
    {
     "name": "stdout",
     "output_type": "stream",
     "text": [
      "['ecogptmem_bl', 'ecogptvisspat_bl']\n"
     ]
    }
   ],
   "source": [
    "# create list of brain measures\n",
    "ecog = [m.lower() for m in vector_dict.metadata['ECog'] if 'bl' in m]\n",
    "# display  list\n",
    "print(ecog)"
   ]
  },
  {
   "cell_type": "code",
   "execution_count": 53,
   "metadata": {},
   "outputs": [
    {
     "data": {
      "text/html": [
       "<iframe id=\"igraph\" scrolling=\"no\" style=\"border:none;\" seamless=\"seamless\" src=\"https://plot.ly/~ilikebrains/92.embed\" height=\"525px\" width=\"100%\"></iframe>"
      ],
      "text/plain": [
       "<plotly.tools.PlotlyDisplay object>"
      ]
     },
     "execution_count": 53,
     "metadata": {},
     "output_type": "execute_result"
    }
   ],
   "source": [
    "# plot memory task\n",
    "plot_dx(ecog[0])"
   ]
  },
  {
   "cell_type": "markdown",
   "metadata": {},
   "source": [
    "The Ecog measurements from the memory task look like they are useful in distinguishing CN from AD, but not from AD and MCI."
   ]
  },
  {
   "cell_type": "code",
   "execution_count": 54,
   "metadata": {},
   "outputs": [],
   "source": [
    "measures_to_drop.append(ecog[0])"
   ]
  },
  {
   "cell_type": "code",
   "execution_count": 55,
   "metadata": {},
   "outputs": [
    {
     "data": {
      "text/html": [
       "<iframe id=\"igraph\" scrolling=\"no\" style=\"border:none;\" seamless=\"seamless\" src=\"https://plot.ly/~ilikebrains/94.embed\" height=\"525px\" width=\"100%\"></iframe>"
      ],
      "text/plain": [
       "<plotly.tools.PlotlyDisplay object>"
      ]
     },
     "execution_count": 55,
     "metadata": {},
     "output_type": "execute_result"
    }
   ],
   "source": [
    "# plot visual spatial task\n",
    "plot_dx(ecog[1])"
   ]
  },
  {
   "cell_type": "markdown",
   "metadata": {},
   "source": [
    "Similar to the memory task, but with more variance in each of the groups. These appear that they may not be useful in distinguishing cognitive impairment."
   ]
  },
  {
   "cell_type": "code",
   "execution_count": 56,
   "metadata": {},
   "outputs": [],
   "source": [
    "measures_to_drop.append(ecog[1])"
   ]
  },
  {
   "cell_type": "markdown",
   "metadata": {},
   "source": [
    "### 2.5 fMRI Functional Connectivity"
   ]
  },
  {
   "cell_type": "code",
   "execution_count": 57,
   "metadata": {},
   "outputs": [
    {
     "name": "stdout",
     "output_type": "stream",
     "text": [
      "['admnrv', 'pdmnrv', 'dmnrvr']\n"
     ]
    }
   ],
   "source": [
    "# create list of brain measures\n",
    "fmri = [m.lower() for m in vector_dict.metadata['fMRI']]\n",
    "# display  list\n",
    "print(fmri)"
   ]
  },
  {
   "cell_type": "code",
   "execution_count": 58,
   "metadata": {},
   "outputs": [
    {
     "data": {
      "text/html": [
       "<iframe id=\"igraph\" scrolling=\"no\" style=\"border:none;\" seamless=\"seamless\" src=\"https://plot.ly/~ilikebrains/96.embed\" height=\"525px\" width=\"100%\"></iframe>"
      ],
      "text/plain": [
       "<plotly.tools.PlotlyDisplay object>"
      ]
     },
     "execution_count": 58,
     "metadata": {},
     "output_type": "execute_result"
    }
   ],
   "source": [
    "# plot anterior default mode network values\n",
    "plot_dx(fmri[0])"
   ]
  },
  {
   "cell_type": "markdown",
   "metadata": {},
   "source": [
    "There is more variance in the AD group, but overall this measure does not appear to be indicative of diagnosis type. We can revisit the variance issue as a potential feature when we look at the characteristics of diagnostic change in section 3."
   ]
  },
  {
   "cell_type": "code",
   "execution_count": 59,
   "metadata": {},
   "outputs": [
    {
     "data": {
      "text/html": [
       "<iframe id=\"igraph\" scrolling=\"no\" style=\"border:none;\" seamless=\"seamless\" src=\"https://plot.ly/~ilikebrains/98.embed\" height=\"525px\" width=\"100%\"></iframe>"
      ],
      "text/plain": [
       "<plotly.tools.PlotlyDisplay object>"
      ]
     },
     "execution_count": 59,
     "metadata": {},
     "output_type": "execute_result"
    }
   ],
   "source": [
    "# plot posterior default mode network\n",
    "plot_dx(fmri[1])"
   ]
  },
  {
   "cell_type": "markdown",
   "metadata": {},
   "source": [
    "Here, there is a large variance associated with the CN group. As with the anterior DMN measure, the variance may be useful in modeling. We'll explore this in section 3."
   ]
  },
  {
   "cell_type": "markdown",
   "metadata": {},
   "source": [
    "### 2.6 DTI Measures"
   ]
  },
  {
   "cell_type": "markdown",
   "metadata": {},
   "source": [
    "Diffusion tensor imaging (DTI) can produce a number of metrics. The two of interest in the dataset are fractional anisotropy (FA) and mean diffusivity (MD). DTI characterizes the diffusion of water molecules in the brain. The core idea for the current study is that non-random diffusion is present when there are neuronal axons, as the white matter on an axon causes water to diffuse in a linear manner. FA represents a deviation from random diffusion of water molecules in a structure and is taken as a measure of the structural integraty of a brain region. High values of FA indicate more integrity. FA values in the hippocampus have been shown to correlate with spatial memory performance. See the publication:\n",
    "\n",
    "Iaria, G., Lanyon, L. J., Fox, C. J., Giaschi, D., & Barton, J. J. S. (2008). Navigational skills correlate with hippocampal fractional anisotropy in humans. Hippocampus, 18(4), 335–339. http://doi.org/10.1002/hipo.20400\n",
    "\n",
    "MD is the average of three different metrics of diffusivity of water molecules in a brain region. Higher MD values represent more structural damage to a particular region."
   ]
  },
  {
   "cell_type": "code",
   "execution_count": 60,
   "metadata": {},
   "outputs": [
    {
     "name": "stdout",
     "output_type": "stream",
     "text": [
      "['fa_hippocampus_l', 'fa_hippocampus_r', 'md_hippocampus_l', 'md_hippocampus_r']\n"
     ]
    }
   ],
   "source": [
    "# create list of brain measures\n",
    "dti = [m.lower() for m in vector_dict.metadata['DTI']]\n",
    "# display  list\n",
    "print(dti)"
   ]
  },
  {
   "cell_type": "code",
   "execution_count": 61,
   "metadata": {},
   "outputs": [
    {
     "data": {
      "text/html": [
       "<iframe id=\"igraph\" scrolling=\"no\" style=\"border:none;\" seamless=\"seamless\" src=\"https://plot.ly/~ilikebrains/90.embed\" height=\"525px\" width=\"100%\"></iframe>"
      ],
      "text/plain": [
       "<plotly.tools.PlotlyDisplay object>"
      ]
     },
     "execution_count": 61,
     "metadata": {},
     "output_type": "execute_result"
    }
   ],
   "source": [
    "# plot fractional anisotropy in hippocampus\n",
    "plot_dx_multibox(dti[:2], 1, 2)"
   ]
  },
  {
   "cell_type": "markdown",
   "metadata": {},
   "source": [
    "These measures appear to have utility in differentiating CN and AD, but not the other diagnosis types."
   ]
  },
  {
   "cell_type": "code",
   "execution_count": 62,
   "metadata": {},
   "outputs": [
    {
     "data": {
      "text/html": [
       "<iframe id=\"igraph\" scrolling=\"no\" style=\"border:none;\" seamless=\"seamless\" src=\"https://plot.ly/~ilikebrains/90.embed\" height=\"525px\" width=\"100%\"></iframe>"
      ],
      "text/plain": [
       "<plotly.tools.PlotlyDisplay object>"
      ]
     },
     "execution_count": 62,
     "metadata": {},
     "output_type": "execute_result"
    }
   ],
   "source": [
    "# plot mean diffusivity in hippocampus\n",
    "plot_dx_multibox(dti[2:], 1, 2)"
   ]
  },
  {
   "cell_type": "markdown",
   "metadata": {},
   "source": [
    "MD, particularly in the left hippocampus, seems to be well differentiated between diagnosis types. Next, let's check to see if the DTI measures are correlated."
   ]
  },
  {
   "cell_type": "code",
   "execution_count": 63,
   "metadata": {},
   "outputs": [],
   "source": [
    "df_bl['avg_md'] = (df_bl['md_hippocampus_l'] + df_bl['md_hippocampus_r'])/2"
   ]
  },
  {
   "cell_type": "code",
   "execution_count": 64,
   "metadata": {},
   "outputs": [],
   "source": [
    "df_bl['avg_fa'] = (df_bl['fa_hippocampus_l'] + df_bl['fa_hippocampus_r'])/2"
   ]
  },
  {
   "cell_type": "code",
   "execution_count": 65,
   "metadata": {},
   "outputs": [
    {
     "data": {
      "text/html": [
       "<div>\n",
       "<style scoped>\n",
       "    .dataframe tbody tr th:only-of-type {\n",
       "        vertical-align: middle;\n",
       "    }\n",
       "\n",
       "    .dataframe tbody tr th {\n",
       "        vertical-align: top;\n",
       "    }\n",
       "\n",
       "    .dataframe thead th {\n",
       "        text-align: right;\n",
       "    }\n",
       "</style>\n",
       "<table border=\"1\" class=\"dataframe\">\n",
       "  <thead>\n",
       "    <tr style=\"text-align: right;\">\n",
       "      <th></th>\n",
       "      <th>avg_md</th>\n",
       "      <th>avg_fa</th>\n",
       "    </tr>\n",
       "  </thead>\n",
       "  <tbody>\n",
       "    <tr>\n",
       "      <th>avg_md</th>\n",
       "      <td>1.000000</td>\n",
       "      <td>-0.610639</td>\n",
       "    </tr>\n",
       "    <tr>\n",
       "      <th>avg_fa</th>\n",
       "      <td>-0.610639</td>\n",
       "      <td>1.000000</td>\n",
       "    </tr>\n",
       "  </tbody>\n",
       "</table>\n",
       "</div>"
      ],
      "text/plain": [
       "          avg_md    avg_fa\n",
       "avg_md  1.000000 -0.610639\n",
       "avg_fa -0.610639  1.000000"
      ]
     },
     "execution_count": 65,
     "metadata": {},
     "output_type": "execute_result"
    }
   ],
   "source": [
    "df_bl[['avg_md', 'avg_fa']].corr()"
   ]
  },
  {
   "cell_type": "markdown",
   "metadata": {},
   "source": [
    "The two measures have a strong negative correlation. Because MD looks more sensative to diagnosis type, let's remove FA from the dataset prior to modeling."
   ]
  },
  {
   "cell_type": "code",
   "execution_count": 66,
   "metadata": {},
   "outputs": [],
   "source": [
    "measures_to_drop.append('fa_hippocampus_l')\n",
    "measures_to_drop.append('fa_hippocampus_r')"
   ]
  },
  {
   "cell_type": "markdown",
   "metadata": {},
   "source": [
    "### 2.7 Genetic Measure"
   ]
  },
  {
   "cell_type": "markdown",
   "metadata": {},
   "source": [
    "The final measure to visualize is the presence of the APOE4 mutation."
   ]
  },
  {
   "cell_type": "code",
   "execution_count": 67,
   "metadata": {},
   "outputs": [
    {
     "data": {
      "text/html": [
       "<iframe id=\"igraph\" scrolling=\"no\" style=\"border:none;\" seamless=\"seamless\" src=\"https://plot.ly/~ilikebrains/100.embed\" height=\"525px\" width=\"100%\"></iframe>"
      ],
      "text/plain": [
       "<plotly.tools.PlotlyDisplay object>"
      ]
     },
     "execution_count": 67,
     "metadata": {},
     "output_type": "execute_result"
    }
   ],
   "source": [
    "# diagnosis type\n",
    "dx = list(df_bl.dx_bl.unique())\n",
    "\n",
    "# APOE4 not present\n",
    "y0 = [df_cn['apoe4'][df_cn.apoe4 == 0].count(), df_ad['apoe4'][df_ad.apoe4 == 0].count(), df_lm['apoe4'][df_lm.apoe4 == 0].count(),\n",
    "     df_em['apoe4'][df_em.apoe4 == 0].count(), df_sm['apoe4'][df_sm.apoe4 == 0].count()]\n",
    "\n",
    "# APOE4 present on one gene\n",
    "y1 = [df_cn['apoe4'][df_cn.apoe4 == 1].count(), df_ad['apoe4'][df_ad.apoe4 == 1].count(), df_lm['apoe4'][df_lm.apoe4 == 1].count(),\n",
    "     df_em['apoe4'][df_em.apoe4 == 1].count(), df_sm['apoe4'][df_sm.apoe4 == 1].count()]\n",
    "\n",
    "# APOE4 present on two genes\n",
    "y2 = [df_cn['apoe4'][df_cn.apoe4 == 2].count(), df_ad['apoe4'][df_ad.apoe4 == 2].count(), df_lm['apoe4'][df_lm.apoe4 == 2].count(),\n",
    "      df_em['apoe4'][df_em.apoe4 == 2].count(), df_sm['apoe4'][df_sm.apoe4 == 2].count()]\n",
    "\n",
    "# generate traces\n",
    "trace0 = go.Bar(\n",
    "                x=dx,\n",
    "                y=y0,\n",
    "                name='Not Present',\n",
    "                opacity=0.75)\n",
    "\n",
    "trace1 = go.Bar(\n",
    "                x=dx,\n",
    "                y=y1,\n",
    "                name='One Gene',\n",
    "                opacity=0.75)\n",
    "\n",
    "trace2 = go.Bar(\n",
    "                x=dx,\n",
    "                y=y2,\n",
    "                name='Two Genes',\n",
    "                opacity=0.75)\n",
    "\n",
    "# link and plot\n",
    "data = [trace0, trace1, trace2]\n",
    "layout = go.Layout(\n",
    "                   title='Presence of APOE4 Allele',\n",
    "                   xaxis=dict(title='Diagnosis Type'),\n",
    "                   yaxis=dict(title='Count'))\n",
    "fig = go.Figure(data=data, layout=layout)\n",
    "py.iplot(fig, filename='apoe4')"
   ]
  },
  {
   "cell_type": "markdown",
   "metadata": {},
   "source": [
    "We can see that in AD and late MCI, there is a high proportion of patients with at least one copy of the APOE4 allele. In section 3, we'll explore the degree to which persons with the APOE4 allele convert to AD compared to those without it. Before we move on to looking at diagnositic change though, let's summarize what we've found so far and characterize who persons with AD are."
   ]
  },
  {
   "cell_type": "markdown",
   "metadata": {},
   "source": [
    "### 2.8 A Portrait of Alzheimer's Disease"
   ]
  },
  {
   "cell_type": "markdown",
   "metadata": {},
   "source": [
    "Below, we'll use the demographic information to reveal what traits characterize average person with AD in the dataset."
   ]
  },
  {
   "cell_type": "code",
   "execution_count": 68,
   "metadata": {},
   "outputs": [
    {
     "data": {
      "text/html": [
       "<iframe id=\"igraph\" scrolling=\"no\" style=\"border:none;\" seamless=\"seamless\" src=\"https://plot.ly/~ilikebrains/102.embed\" height=\"525px\" width=\"100%\"></iframe>"
      ],
      "text/plain": [
       "<plotly.tools.PlotlyDisplay object>"
      ]
     },
     "execution_count": 68,
     "metadata": {},
     "output_type": "execute_result"
    }
   ],
   "source": [
    "# age trace\n",
    "trace_age = go.Bar(\n",
    "                x=['AD', 'CN', 'SMC', 'Early MCI', 'Late MCI'],\n",
    "                y=[df_ad.age.mean(), df_cn.age.mean(), df_sm.age.mean(), df_em.age.mean(), df_lm.age.mean()],\n",
    "                hoverinfo='y',\n",
    "                marker=dict(\n",
    "                            color=['rgba(222,45,38,0.8)', 'rgba(204,204,204,1)',\n",
    "                                   'rgba(204,204,204,1)', 'rgba(204,204,204,1)',\n",
    "                                   'rgba(204,204,204,1)']))\n",
    "# gender trace\n",
    "trace_gender = go.Bar(\n",
    "                      y=['Female', 'Male'],\n",
    "                      x=[df_ad.ptgender[df_ad.ptgender == 'Female'].count()/len(df_ad.ptgender)*100, \n",
    "                         df_ad.ptgender[df_ad.ptgender == 'Male'].count()/len(df_ad.ptgender)*100],\n",
    "                      orientation='h',\n",
    "                      hoverinfo='x',\n",
    "                      marker=dict(\n",
    "                                  color=['rgb(116,159,199)', 'rgb(245,169,114)']),\n",
    "                      opacity = 0.75)\n",
    "# education trace\n",
    "trace_edu = go.Bar(\n",
    "                   x=['AD', 'CN', 'SMC', 'Early MCI', 'Late MCI'],\n",
    "                   y=[df_ad.pteducat.mean(), df_cn.pteducat.mean(), df_sm.pteducat.mean(), df_em.pteducat.mean(), df_lm.pteducat.mean()],\n",
    "                   hoverinfo='y',\n",
    "                   marker=dict(\n",
    "                            color=['rgba(222,45,38,0.8)', 'rgba(204,204,204,1)',\n",
    "                                   'rgba(204,204,204,1)', 'rgba(204,204,204,1)',\n",
    "                                   'rgba(204,204,204,1)']))\n",
    "\n",
    "\n",
    "# marital status trace\n",
    "trace_marital = go.Bar(\n",
    "                       x=['Married', 'Widowed', 'Divorced', 'Never Married'],\n",
    "                       y=list(df_ad.ptmarry.value_counts()),\n",
    "                       hoverinfo='y',\n",
    "                       opacity=0.75)\n",
    "    \n",
    "# make subplots\n",
    "fig = plotly.tools.make_subplots(rows=2, cols=2, subplot_titles=('Mean Age', 'Percent of Gender', 'Mean Education', 'Marital Status'), print_grid=False)\n",
    "fig.append_trace(trace_age, 1, 1)\n",
    "fig.append_trace(trace_gender, 1, 2)\n",
    "fig.append_trace(trace_edu, 2, 1)\n",
    "fig.append_trace(trace_marital, 2, 2)\n",
    "\n",
    "# update layout\n",
    "fig['layout']['yaxis1'].update(title='Age', range=[70,75])\n",
    "fig['layout']['yaxis3'].update(title='Years of Education', range=[10,20])\n",
    "fig['layout'].update(showlegend=False)\n",
    "py.iplot(fig, filename='ad_portrait')"
   ]
  },
  {
   "cell_type": "markdown",
   "metadata": {},
   "source": [
    "The average person with AD tends to be male and older than the other patients in the study. They are less educated and are currently married."
   ]
  },
  {
   "cell_type": "markdown",
   "metadata": {},
   "source": [
    "### 2.2 Characteristics of diagnostic change"
   ]
  },
  {
   "cell_type": "markdown",
   "metadata": {},
   "source": [
    "This section will explore the target variable we're interested in forcasting is the conversion to AD, which is coded by the diagnositic change (DXCHANGE) column in the dataframe. The different categories for this variable are:"
   ]
  },
  {
   "cell_type": "code",
   "execution_count": null,
   "metadata": {},
   "outputs": [],
   "source": [
    "for k,v in vector_dict.dx_change_ids.items():\n",
    "    print(f'Value {k} represents {v}')"
   ]
  },
  {
   "cell_type": "markdown",
   "metadata": {},
   "source": [
    "The two values that we're interested in are 5, the conversion from MCI to AD, and 6, the conversion of cognitively normal to AD. Let's explore some of the characteristics in the dataset associated with these two diagnostic changes."
   ]
  }
 ],
 "metadata": {
  "kernelspec": {
   "display_name": "Python 3",
   "language": "python",
   "name": "python3"
  },
  "language_info": {
   "codemirror_mode": {
    "name": "ipython",
    "version": 3
   },
   "file_extension": ".py",
   "mimetype": "text/x-python",
   "name": "python",
   "nbconvert_exporter": "python",
   "pygments_lexer": "ipython3",
   "version": "3.6.5"
  }
 },
 "nbformat": 4,
 "nbformat_minor": 2
}
